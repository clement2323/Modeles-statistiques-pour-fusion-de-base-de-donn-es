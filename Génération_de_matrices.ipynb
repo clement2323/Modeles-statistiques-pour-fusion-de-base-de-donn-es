{
 "cells": [
  {
   "cell_type": "markdown",
   "metadata": {
    "colab_type": "text",
    "id": "7q3Q7s_znLV4"
   },
   "source": [
    "## Rapprochement/fusion de bases de données – distance procustéenne / group synchronization / graph matching"
   ]
  },
  {
   "cell_type": "code",
   "execution_count": 2,
   "metadata": {
    "colab": {
     "base_uri": "https://localhost:8080/",
     "height": 71
    },
    "colab_type": "code",
    "id": "lItmclb3nLV6",
    "outputId": "b93ccc24-3557-498d-fd28-55f56d4c00ee"
   },
   "outputs": [
    {
     "name": "stderr",
     "output_type": "stream",
     "text": [
      "/Users/clementguillo/opt/anaconda3/lib/python3.7/site-packages/statsmodels/tools/_testing.py:19: FutureWarning: pandas.util.testing is deprecated. Use the functions in the public API at pandas.testing instead.\n",
      "  import pandas.util.testing as tm\n"
     ]
    }
   ],
   "source": [
    "from sklearn import datasets\n",
    "from sklearn import decomposition\n",
    "from matplotlib import pyplot as plt\n",
    "from progressbar import progressbar\n",
    "from scipy.spatial import distance_matrix\n",
    "from scipy.stats import chi2\n",
    "\n",
    "import numpy as np,numpy.linalg\n",
    "import copy\n",
    "import seaborn as sns; sns.set()\n",
    "import cvxpy as cp\n",
    "import scipy\n",
    "from scipy.spatial import distance\n",
    "\n",
    "import time\n",
    "import pprint\n",
    "import ot\n",
    "import math\n",
    "import copy\n",
    "\n",
    "import pprint\n"
   ]
  },
  {
   "cell_type": "markdown",
   "metadata": {},
   "source": [
    "## Cas Gaussien"
   ]
  },
  {
   "cell_type": "markdown",
   "metadata": {},
   "source": [
    "Comme dans de nombreuses situations, le cas gaussien offre un cadre naturel et facile pour obtenir des résultats de référence d'un point de vue théorique et pratique. Nous avons donc conçu une \"configuration gaussienne\" pour le problème de la fusion des bases de données. \n",
    "\n",
    "Plus tard, nous appliquerons la base de donnée de Médiamétrie à notre problème.\n",
    "\n",
    "Nous supposons que $A*$ est une matrice aléatoire $n × d$ avec des vecteurs de rangée i.i.d. distribués comme $N (μ, Σ)$ où $\\mu ∈ R^d$ est la moyenne inconnue et $Σ ∈ R^{d^2}$ est la matrice de covariance inconnue. \n",
    "\n",
    "Nous n'observons pas $A*$ mais seulement une version masquée de celui-ci ; c'est-à-dire que nous observons $A = PA*$ où P est un opérateur de projection révélant certaines entrées spécifiques de $A*$.\n",
    "\n"
   ]
  },
  {
   "cell_type": "markdown",
   "metadata": {},
   "source": [
    "On va générer $PA*$ à partir de $A*$.\n",
    "\n",
    "On considère que $A*$ est notre base de donnée de départ mais inconnue.\n",
    "\n",
    "On appliquera le cas gaussien à notre problème de panels avec médiamétrie.\n",
    "\n",
    "On considère que $PA∗$ révèle les premières coordonnées $d_{1}$ des $n_{1}$ premiers vecteurs de ligne de $A∗$, puis les dernières coordonnées  $d_{2}$ des  $n_{2}$ vecteurs de ligne suivants et il révèle toutes les coordonnées des  $n_{3}$ derniers vecteurs de ligne de $A∗$ $(n=n1+n2+n3)$."
   ]
  },
  {
   "cell_type": "code",
   "execution_count": 3,
   "metadata": {
    "colab": {},
    "colab_type": "code",
    "id": "C0FGPkhxnLV9"
   },
   "outputs": [],
   "source": [
    "def generate_A_star(n,d,mu=None,Sigma=None,create=False):\n",
    "    \"\"\"\n",
    "    Génère une version de A* qui donnera les entrées fixes PA*, (génération aléatoire de mu et sigma)\n",
    "    \n",
    "    Input:\n",
    "    n : nombre de lignes de la matrice A*\n",
    "    d : nombre de colonnes désirées (nombre de features total, portable et tablette d=d1+d2)\n",
    "    \n",
    "    Output:  \n",
    "    A_star : La matrice A* retournée\n",
    "    mu : la moyenne du vecteur gaussien générateur\n",
    "    Sigma : la matrice de variance covariance du vecteur générateur\n",
    "    \"\"\"\n",
    "    if create :\n",
    "        a = np.random.randint(0,10,size=(d,d)) # génère matrice (d,d) avec nombre entier aléatoire entre [0,10]\n",
    "        b = (a + a.T)\n",
    "        _, s, V = np.linalg.svd(b)\n",
    "        c = np.dot(V.T, np.dot(np.diag(s), V)) # on diagonalise \n",
    "        e = (b + c) / 2\n",
    "        Sigma = (e + e.T) / 2 # avec sigma symétrique définie positive \n",
    "\n",
    "        mu = np.random.randint(0,10,size=d)\n",
    "\n",
    "\n",
    "    #generate A*\n",
    "    A_star=np.random.multivariate_normal(mu,Sigma,n)\n",
    "\n",
    "    return A_star, mu, Sigma\n",
    "    \n",
    "\n",
    "\n",
    "def build_P_A_star(A,n1,n2,d1):\n",
    "    \"\"\"\n",
    "    Donne la matrice PA* à partir de la matrice A* de dimension nx10\n",
    "    \n",
    "    Input:\n",
    "    n1 : nombre d'individus uniquement présents sur portable\n",
    "    n2 : nombre d'individus uniquement présent sur tablette\n",
    "    d1 : nombre features portable\n",
    "    \n",
    "    A : Matrice à laquelle on veut appliquer le filtre par blocs P\n",
    "    \n",
    "    Output:\n",
    "    PA_star : la matrice filtrée, avec des 0 là où on ne veut pas voir les données\n",
    "    \"\"\"\n",
    "    PA_star=np.zeros(A.shape)\n",
    "    PA_star[:n1,:d1]=A[:n1,:d1] #portable\n",
    "    PA_star[n1:(n1+n2),d1:]=A[n1:(n1+n2),d1:]\n",
    "    PA_star[(n1+n2):,:]= A[(n1+n2):,:]\n",
    "    \n",
    "    return(PA_star)\n"
   ]
  },
  {
   "cell_type": "markdown",
   "metadata": {},
   "source": [
    "$Objectifs$ : en utilisant les données $PA*$, nous voulons estimer $A*$. C'est à dire, de trouver un estimateur de $A*$.\n",
    "\n",
    "Ce problème est une sorte de problème de complétion de matrice mais avec une matrice masquée très structurée et organisée par blocs. Par exemple, disons que nous voulons construire un estimateur $Aˆ*$. \n",
    "\n",
    "$Interprétation$ : Les premiers vecteurs de la ligne $n_{1}$ sont les panélistes pour lesquels nous n'observons que les historiques d'url sur les téléphones portables, les vecteurs de la ligne $n_{2}$ suivants sont les panélistes pour lesquels nous n'observons que les historiques d'url sur les tablettes et les derniers $n_{3}$ sont les \"bi médias\" pour lesquels les deux historiques sont observés. \n",
    "\n",
    "En reconstruisant $A*$ à partir de $PA*$, nous complétons en quelque sorte les observations manquantes pour un certain type d'appareil (nous supposons que chaque panéliste devrait avoir les deux historiques).\n"
   ]
  },
  {
   "cell_type": "markdown",
   "metadata": {},
   "source": [
    "Quelques estimateurs pour la moyenne conditionnelle : \n",
    "\n",
    "Il découle de l'analyse de risque que nous n'avons qu'à estimer les deux moyennes conditionnelles $\\mathbb{E}[P_{2}X_{i}|P_{1}X_{i}]$ et $\\mathbb{E}[P_{1}X_{i}|P_{2}X_{i}]$\n",
    "\n",
    "On génère les paramètres de la loi conditionnelle d'une composante de vecteur sachant une autre fixée afin que le vecteur obtenu au final suive une loi normale."
   ]
  },
  {
   "cell_type": "code",
   "execution_count": 4,
   "metadata": {},
   "outputs": [],
   "source": [
    "def generate_cond(first,fixed_values,Sigma,mu):\n",
    "    \n",
    "    \"\"\"\n",
    "    génère les paramètres de la loi conditionnelle d'une composante de vecteur sachant une autre fixée afin que le vecteur\n",
    "    obtenu au final suive une loi normale\n",
    "    \n",
    "    Input:\n",
    "    \n",
    "    first : booléen égal à True si on génère les premières composantes, False sinon\n",
    "    fixed_value : vecteur des valeurs fixées on génère donc len(mu)-len(fixed_values)\n",
    "    Sigma : Matrice de variance covariance du vecteur gaussien\n",
    "    mu : espérance duvecteur Gaussien\n",
    "    \n",
    "    Output:\n",
    "    X : le vecteur obtenu\n",
    "    \"\"\"\n",
    "    \n",
    "    if first:\n",
    "        d1=len(mu)-len(fixed_values)\n",
    "        d=len(mu)\n",
    "\n",
    "        S11=Sigma[:d1,:d1]\n",
    "        S12=Sigma[:d1,d1:d]\n",
    "        S22_inv=np.linalg.inv(Sigma[d1:d,d1:d])\n",
    "\n",
    "        mu_cond=mu[:d1] + np.dot(np.matmul(S12,S22_inv),(fixed_values-mu[d1:d]))\n",
    "        sigma_cond=S11-np.matmul(np.matmul(S12,S22_inv),S12.T)\n",
    "    else:\n",
    "        d1=len(fixed_values)\n",
    "        d=len(mu)\n",
    "\n",
    "        S22=Sigma[d1:d,d1:d]\n",
    "        S12=Sigma[:d1,d1:d]\n",
    "        S11_inv=np.linalg.inv(Sigma[:d1,:d1])\n",
    "\n",
    "        mu_cond=mu[d1:d] + np.dot(np.matmul(S12.T,S11_inv),(fixed_values-mu[:d1]))\n",
    "        sigma_cond=S22-np.matmul(np.matmul(S12.T,S11_inv),S12)\n",
    "    \n",
    "    \n",
    "    return(mu_cond,sigma_cond)"
   ]
  },
  {
   "cell_type": "markdown",
   "metadata": {},
   "source": [
    "À partir d'une matrice incomplète avec entrée donnée (ici $PA*$), on génère les éléments restants de sorte à ce que la matrice résultante soit issue de la génération de vecteurs gaussiens.\n",
    "Les données complètes sont la matrice $A*$ et les données observées sont la projection $PA*$. \n",
    "\n",
    "Nous pouvons alors construire un algorithme pour ce problème de valeur manquante. \n",
    "\n",
    "À la fin de l'algorithme EM, nous obtiendrons un estimateur $\\hat{μ}$ de la moyenne et $\\hat{Σ}$ de la matrice de covariance. Nous pouvons ensuite compléter les valeurs manquantes soit en prenant une valeur aléatoire selon la densité conditionnelle $f_{P_{2}X|P_{1}X}(\\hat{μ},\\hat{Σ}))$ ou sa moyenne (donnée ci-dessus) - pour les valeurs de $x = P_{1}X_{1},...,P_{1}X_{n_{1}}$ - et la même chose pour $f_{P_{1}X|P_{2}X}(\\hat{μ},\\hat{Σ}))$.\n"
   ]
  },
  {
   "cell_type": "code",
   "execution_count": 5,
   "metadata": {},
   "outputs": [],
   "source": [
    "\n",
    "def generate_A_star_fixed_PA(PA_star,Sigma,mu,n1,n2,d1):\n",
    "    \"\"\"A partir d'une matrice incomplète avec entrée donnée (fixée) génère les éléments restants de sorte \n",
    "    à ce que la matrice résultante soit issue de la génération de vecteurs gaussiens mu Sigma\n",
    "    \n",
    "    input:\n",
    "    PA_star = matrice avec les valeurs que l'on veut fixer et des 0 partout ailleurs à compléter\n",
    "    Sigma = Matrice de variance covariance des vecteurs que l'on veut au final\n",
    "    mu = Espérance de ce même vecteur\n",
    "    \n",
    "    output:\n",
    "    A_star: la matrice dont les lignes sont issus d'une normale Sigma, mu avec entrées fixées\n",
    "    \n",
    "    \"\"\"\n",
    "   \n",
    "    A_star=np.zeros(PA_star.shape)\n",
    "    \n",
    "    for l,row in enumerate(PA_star):\n",
    "        if l<=n1-1:\n",
    "            m,S=generate_cond(False,row[:d1],Sigma,mu)\n",
    "            A_star[l]=np.concatenate((row[:d1],np.random.multivariate_normal(m,S)))\n",
    "            \n",
    "        if l>n1-1 and l <= n1+n2-1:\n",
    "            m,S=generate_cond(True,row[d1:],Sigma,mu)\n",
    "            A_star[l]=np.concatenate((np.random.multivariate_normal(m,S),row[d1:]))\n",
    "            \n",
    "        if l>n1+n2-1:\n",
    "            A_star[l]=row\n",
    "\n",
    "    return(A_star)\n",
    "       "
   ]
  },
  {
   "cell_type": "markdown",
   "metadata": {
    "colab_type": "text",
    "id": "XJTYyfwvnLV_"
   },
   "source": [
    "## Simulations et tests de fusions de base de données gaussiennes"
   ]
  },
  {
   "cell_type": "markdown",
   "metadata": {},
   "source": [
    "On effectue ces tests en complétant les lignes incomplète par l'estimateur plug-on de $\\mathbb{E}(P_1X|P_2X)$ (resp. $\\mathbb{E}(P_2X|P_1X)$"
   ]
  },
  {
   "cell_type": "markdown",
   "metadata": {},
   "source": [
    "Dans un premier temps on construit les estimateurs de moyenne et de variance empirique sur la base des données présentes dans la matrice incomplète $PA^*$, puis on se sert de ces estimateurs pour donner un estimateur $\\hat A^*$ de la matrice complète basé sur les formules de conditionnement d'un vecteur gaussien"
   ]
  },
  {
   "cell_type": "code",
   "execution_count": 6,
   "metadata": {},
   "outputs": [],
   "source": [
    "def empirical_estimates(n1,n2,n3,d1,d2,PA_star):\n",
    "    \"\"\"\n",
    "    Construit les estimateurs de moyenne et de variance covariance empiriques à partir de la matrice PA*\n",
    "  \n",
    "    Input:\n",
    "    n1,n2,n3 : nombre de panélistes mono et bis\n",
    "    d1,d2 : nombre de variables portable et tablette\n",
    "    PA_star : la matrice incomplète\n",
    "    \n",
    "    Output:  \n",
    "    mu1_hat,mu2_hat,Sigma11_hat,Sigma22_hat,Sigma12_hat : les estimateurs empiriques\n",
    "    \"\"\"\n",
    "    \n",
    "    n=n1+n2+n3\n",
    "    #Calcul des estimateurs à partir de PA_star\n",
    "\n",
    "    tmp=np.sum(PA_star,axis=0)\n",
    "    mu1_hat=tmp[:d1]/(n1+n3)\n",
    "    mu2_hat=tmp[d1:]/(n2+n3)\n",
    "\n",
    "    v1=np.concatenate((PA_star[:n1,:d1]-mu1_hat,PA_star[n1+n2:,:d1]-mu1_hat),axis=0)\n",
    "    Sum11=0\n",
    "    for v in v1:\n",
    "        Sum11+= np.outer(v,v.T)\n",
    "\n",
    "    v2=PA_star[n1:,d1:]-mu2_hat\n",
    "    Sum22=0\n",
    "    for v in v2:\n",
    "        Sum22+= np.outer(v,v.T)\n",
    "\n",
    "   \n",
    "    v3=PA_star[n1+n2:,:d1]-mu1_hat\n",
    "    v4=PA_star[n1+n2:,d1:]-mu2_hat\n",
    "    Sum12=0\n",
    "    for u,v in zip(v3,v4):\n",
    "        Sum12+=np.outer(u,v)\n",
    "\n",
    "    Sigma11_hat=Sum11/(n1+n3)\n",
    "    Sigma22_hat=Sum22/(n2+n3)\n",
    "    Sigma12_hat=Sum12/n3\n",
    "    \n",
    "    return(mu1_hat,mu2_hat,Sigma11_hat,Sigma22_hat,Sigma12_hat)\n",
    "    \n",
    "    \n",
    "    \n",
    "def build_A_star_hat(mu1_hat,mu2_hat,Sigma11_hat,Sigma22_hat,Sigma12_hat,n1,n2,n3,d1,d2,PA_star):\n",
    "    \"\"\"\n",
    "    Construction de la matrice complète à partir d estimateurs de moyenne et de variance\n",
    "    \n",
    "    Input:\n",
    "    n1,n2,n3 : nombre de panélistes mono et bis\n",
    "    d1,d2 : nombre de variables portable et tablette\n",
    "    mu1_hat,mu2_hat,Sigma11_hat,Sigma22_hat,Sigma12_hat : : les estimateurs de moyenne et de variance\n",
    "    PA_star : la matrice incomplète\n",
    "    \n",
    "    Output:  \n",
    "    A_star_hat : Estimation de A* à partir des estimateurs fournis\n",
    "    \"\"\"\n",
    "    \n",
    "    A_star_hat=copy.deepcopy(PA_star)\n",
    "    d1=len(mu1_hat)\n",
    "    d2=len(mu2_hat)\n",
    "    \n",
    "    for i,Xi in enumerate(PA_star):\n",
    "        P1Xi=Xi[:d1]\n",
    "        P2Xi=Xi[d1:]\n",
    "\n",
    "        mu_P2Xi_P1Xi=mu2_hat+np.matmul(Sigma12_hat.T,np.matmul(np.linalg.inv(Sigma11_hat),(P1Xi-mu1_hat)))\n",
    "        mu_P1Xi_P2Xi=mu1_hat+np.matmul(Sigma12_hat,np.matmul(np.linalg.inv(Sigma22_hat),(P2Xi-mu2_hat)))\n",
    "\n",
    "        if i<n1:\n",
    "            A_star_hat[i]=np.concatenate((P1Xi,mu_P2Xi_P1Xi))\n",
    "        if i>=n1 and i<n1+n2:\n",
    "            A_star_hat[i]=np.concatenate((mu_P1Xi_P2Xi,P2Xi))\n",
    "      \n",
    "    return(A_star_hat)"
   ]
  },
  {
   "cell_type": "markdown",
   "metadata": {},
   "source": [
    "## Application"
   ]
  },
  {
   "cell_type": "markdown",
   "metadata": {},
   "source": [
    "Pour notre exemple, on décide de prendre $n=15$ et $d=6$. Puis $n_{1}=7$, $n_{2}=3$ et $d_{1}=3$ donc $d_{2}=3$."
   ]
  },
  {
   "cell_type": "code",
   "execution_count": 7,
   "metadata": {},
   "outputs": [
    {
     "name": "stdout",
     "output_type": "stream",
     "text": [
      "[[-0.24962712  0.95518811  4.094101    2.98660263  3.72832132  5.08476733]\n",
      " [ 5.20163888  7.25002088 12.46434975 11.24675354  3.44550677 10.0929879 ]\n",
      " [-2.30745261 -2.36824182  0.43241505 -0.27372672  6.3489894   8.87229559]\n",
      " [ 7.2190278  10.39928978 11.75784898 11.43560002  6.76499598  9.41386359]\n",
      " [ 0.12090244  0.90103334  6.43393619  5.63502324  3.40440406  7.50873751]\n",
      " [ 6.190094    8.71909521  8.86660922  4.69361013  2.96662105 10.01800493]\n",
      " [ 4.34762807  6.30954379  7.86335188  5.97415827  5.2786562  10.14586374]\n",
      " [ 2.20673906  4.04474224 10.57589519 11.57673781  4.04027878  5.7498405 ]\n",
      " [ 3.58054305  5.77398353  8.86753023  5.66920659  0.84613376  5.94460924]\n",
      " [ 8.12590661 11.86535176 10.01864357  9.33065694  8.27548523  9.08469701]\n",
      " [-6.05463673 -6.96080817  0.181397    0.42802433  3.44488233  4.96139817]\n",
      " [ 2.46225756  4.25707651  6.24600855  6.16113289  6.69737568  7.97475688]\n",
      " [-3.28828364 -3.62042131  2.77343579  0.99506031  1.57111185  6.4970425 ]\n",
      " [ 2.30734278  3.51036873  8.89801044  8.51426629  4.62853131  9.63575383]\n",
      " [ 6.18243901  9.60623596  4.80793563  4.21787644 10.4478997   8.36164301]]\n"
     ]
    }
   ],
   "source": [
    "A_star=generate_A_star(15,6,mu=None,Sigma=None,create=True)[0]\n",
    "print(A_star)"
   ]
  },
  {
   "cell_type": "code",
   "execution_count": 8,
   "metadata": {},
   "outputs": [
    {
     "name": "stdout",
     "output_type": "stream",
     "text": [
      "[[-0.24962712  0.95518811  4.094101    0.          0.          0.        ]\n",
      " [ 5.20163888  7.25002088 12.46434975  0.          0.          0.        ]\n",
      " [-2.30745261 -2.36824182  0.43241505  0.          0.          0.        ]\n",
      " [ 7.2190278  10.39928978 11.75784898  0.          0.          0.        ]\n",
      " [ 0.12090244  0.90103334  6.43393619  0.          0.          0.        ]\n",
      " [ 6.190094    8.71909521  8.86660922  0.          0.          0.        ]\n",
      " [ 4.34762807  6.30954379  7.86335188  0.          0.          0.        ]\n",
      " [ 0.          0.          0.         11.57673781  4.04027878  5.7498405 ]\n",
      " [ 0.          0.          0.          5.66920659  0.84613376  5.94460924]\n",
      " [ 0.          0.          0.          9.33065694  8.27548523  9.08469701]\n",
      " [-6.05463673 -6.96080817  0.181397    0.42802433  3.44488233  4.96139817]\n",
      " [ 2.46225756  4.25707651  6.24600855  6.16113289  6.69737568  7.97475688]\n",
      " [-3.28828364 -3.62042131  2.77343579  0.99506031  1.57111185  6.4970425 ]\n",
      " [ 2.30734278  3.51036873  8.89801044  8.51426629  4.62853131  9.63575383]\n",
      " [ 6.18243901  9.60623596  4.80793563  4.21787644 10.4478997   8.36164301]]\n"
     ]
    }
   ],
   "source": [
    "PA_star=build_P_A_star(A_star,7,3,3)\n",
    "print(PA_star)"
   ]
  },
  {
   "cell_type": "code",
   "execution_count": 9,
   "metadata": {},
   "outputs": [
    {
     "name": "stdout",
     "output_type": "stream",
     "text": [
      "[[18.11161885  8.34591138 11.19333306  6.95411706  9.13002042  8.38779377]\n",
      " [ 8.34591138  9.45326028  9.09128283 11.49657919  9.92841177  6.10810875]\n",
      " [11.19333306  9.09128283 10.692813    9.33655321 11.67993485  8.10000648]\n",
      " [ 6.95411706 11.49657919  9.33655321 15.52750343 10.41654709  5.50953754]\n",
      " [ 9.13002042  9.92841177 11.67993485 10.41654709 14.47249407  9.19201547]\n",
      " [ 8.38779377  6.10810875  8.10000648  5.50953754  9.19201547  6.5564521 ]]\n"
     ]
    }
   ],
   "source": [
    "Sigma=generate_A_star(15,6,mu=None,Sigma=None,create=True)[2]\n",
    "print(Sigma)"
   ]
  },
  {
   "cell_type": "code",
   "execution_count": 11,
   "metadata": {},
   "outputs": [],
   "source": [
    "mu1_hat,mu2_hat,Sigma11_hat,Sigma22_hat,Sigma12_hat=empirical_estimates(7,3,5,3,3,PA_star)\n",
    "A_star_hat=build_A_star_hat(mu1_hat,mu2_hat,Sigma11_hat,Sigma22_hat,Sigma12_hat,7,3,5,3,3,PA_star)\n"
   ]
  },
  {
   "cell_type": "code",
   "execution_count": 12,
   "metadata": {},
   "outputs": [
    {
     "name": "stdout",
     "output_type": "stream",
     "text": [
      "[[-0.24962712  0.95518811  4.094101    2.45042955  6.45213029  6.18581452]\n",
      " [ 5.20163888  7.25002088 12.46434975 10.28989097  2.08533028  8.34781929]\n",
      " [-2.30745261 -2.36824182  0.43241505  3.17258327  3.47319956  6.33586456]\n",
      " [ 7.2190278  10.39928978 11.75784898  9.61754157  7.99884859  8.86227906]\n",
      " [ 0.12090244  0.90103334  6.43393619  5.04210641  2.11519181  6.56128748]\n",
      " [ 6.190094    8.71909521  8.86660922  9.95427597  7.2929425   9.09257579]\n",
      " [ 4.34762807  6.30954379  7.86335188  8.58118805  5.74863198  8.39292881]\n",
      " [ 3.69814365  5.62086514  8.16309107 11.57673781  4.04027878  5.7498405 ]\n",
      " [-2.20478772 -2.48977628  5.95460333  5.66920659  0.84613376  5.94460924]\n",
      " [ 7.75814357 11.08900566  9.993711    9.33065694  8.27548523  9.08469701]\n",
      " [-6.05463673 -6.96080817  0.181397    0.42802433  3.44488233  4.96139817]\n",
      " [ 2.46225756  4.25707651  6.24600855  6.16113289  6.69737568  7.97475688]\n",
      " [-3.28828364 -3.62042131  2.77343579  0.99506031  1.57111185  6.4970425 ]\n",
      " [ 2.30734278  3.51036873  8.89801044  8.51426629  4.62853131  9.63575383]\n",
      " [ 6.18243901  9.60623596  4.80793563  4.21787644 10.4478997   8.36164301]]\n"
     ]
    }
   ],
   "source": [
    "print(A_star_hat)"
   ]
  },
  {
   "cell_type": "markdown",
   "metadata": {},
   "source": [
    "## Analyse de l'erreur entre $A*$ et son estimateur $\\hat A^*$ "
   ]
  },
  {
   "cell_type": "markdown",
   "metadata": {},
   "source": [
    "Dans la première fonction, on fixe la matrice $PA^*$ une fois pour toute et on génère des matrices $A^*$ dont les lignes sont des vecteurs gaussiens $\\mathcal{N}(\\mu,\\sigma)$ mais dont la partie $PA^*$ est la même. Et on calcule l'erreur moyenne observée sur les $n_1$ lignes des panélistes \"portable\", dans la seconde on réitère le processus de génération à chaque fois et on calcule l'erreur moyenne."
   ]
  },
  {
   "cell_type": "code",
   "execution_count": 7,
   "metadata": {},
   "outputs": [],
   "source": [
    "def return_mat_err_cond(n1,n2,n3,d1,d2,mu,Sigma,ngen=3000):\n",
    "    \"\"\"\n",
    "    Calcul de l'erreur d'estimation conditionnellement aux entrées PA_star fixée\n",
    "    \n",
    "    Input:\n",
    "    n1,n2,n3 : nombre de panélistes mono et bis\n",
    "    d1,d2 : nombre de variables portable et tablette\n",
    "    mu, Sigma : moyenne et matrice de variance des lignes générées\n",
    "    ngen : nombre de simulations\n",
    "    \n",
    "    Output:  \n",
    "    mat_err : liste de taille ngen contenant la moyenne de l'erreur commise sur les lignes de panélistes \"portable\" pour chaque \n",
    "    génération (avec PA_star fixée)\n",
    "    \"\"\"\n",
    "    n=n1+n2+n3\n",
    "    A_star, mu , Sigma=generate_A_star(n,(d1+d2), mu , Sigma)#\n",
    "\n",
    "    PA_star=build_P_A_star(A_star,n1,n2,d1)\n",
    "    \n",
    "    mu1_hat,mu2_hat,Sigma11_hat,Sigma22_hat,Sigma12_hat=empirical_estimates(n1,n2,n3,d1,d2,PA_star)\n",
    "    A_star_hat=build_A_star_hat(mu1_hat,mu2_hat,Sigma11_hat,Sigma22_hat,Sigma12_hat,n1,n2,n3,d1,d2,PA_star)\n",
    "\n",
    "    mat_err=[]\n",
    "    for g in progressbar(range(ngen)):\n",
    "        Ag=generate_A_star_fixed_PA(PA_star,Sigma,mu,n1,n2,d1)\n",
    "        mat_err.append((Ag[:n1]-A_star_hat[:n1])**2)\n",
    "    return(mat_err)\n",
    "\n",
    "def return_mat_err(n1,n2,n3,d1,d2,mu,Sigma,ngen=3000):\n",
    "    \"\"\"\n",
    "    Calcul de l'erreur d'estimation conditionnellement aux entrées PA_star fixée\n",
    "    \n",
    "    Input:\n",
    "    n1,n2,n3 : nombre de panélistes mono et bis\n",
    "    d1,d2 : nombre de variables portable et tablette\n",
    "    mu, Sigma : moyenne et matrice de variance des lignes générées\n",
    "    ngen : nombre de simulations\n",
    "    \n",
    "    Output:  \n",
    "    mat_err : liste de taille ngen contenant la moyenne de l'erreur commise sur les lignes de panélistes \"portable\" pour chaque \n",
    "    génération \n",
    "    \"\"\"\n",
    "    n=n1+n2+n3\n",
    "    A_star, mu , Sigma=generate_A_star(n,(d1+d2), mu , Sigma)\n",
    "    \n",
    "    mat_err=[]\n",
    "    for g in progressbar(range(ngen)):\n",
    "        A_star, mu , Sigma=generate_A_star(n,(d1+d2), mu , Sigma)#\n",
    "        PA_star=build_P_A_star(A_star,n1,n2,d1)\n",
    "        \n",
    "        mu1_hat,mu2_hat,Sigma11_hat,Sigma22_hat,Sigma12_hat=empirical_estimates(n1,n2,n3,d1,d2,PA_star)\n",
    "        A_star_hat=build_A_star_hat(mu1_hat,mu2_hat,Sigma11_hat,Sigma22_hat,Sigma12_hat,n1,n2,n3,d1,d2,PA_star)\n",
    "\n",
    "        mat_err.append((Ag[:n1]-A_star_hat[:n1])**2)\n",
    "    return(mat_err)"
   ]
  },
  {
   "cell_type": "markdown",
   "metadata": {},
   "source": [
    "L'erreur moyenne observée sur l'enselmble des générations devrait être distribuées comme une gaussienne"
   ]
  },
  {
   "cell_type": "code",
   "execution_count": 16,
   "metadata": {
    "colab": {
     "base_uri": "https://localhost:8080/",
     "height": 604
    },
    "colab_type": "code",
    "id": "fQBUCvFInLWC",
    "outputId": "0dbe7ed9-b7ea-4e1a-a5b4-336ba58f74b4"
   },
   "outputs": [
    {
     "name": "stderr",
     "output_type": "stream",
     "text": [
      "100% (1000 of 1000) |####################| Elapsed Time: 0:01:07 Time:  0:01:07\n"
     ]
    },
    {
     "data": {
      "image/png": "[encoded data removed]",
      "text/plain": [
       "<Figure size 432x288 with 1 Axes>"
      ]
     },
     "metadata": {
      "needs_background": "light"
     },
     "output_type": "display_data"
    }
   ],
   "source": [
    "np.random.seed(1234)\n",
    "#Test avec valeurs arbitraires\n",
    "n1=200\n",
    "n2=200\n",
    "n3=30\n",
    "\n",
    "d1=2\n",
    "d2=2\n",
    "\n",
    "mu= list(np.zeros(4)) # si Sigma et mu sont mises à none elles sont générées aléatoirement\n",
    "Sigma= np.eye(4)\n",
    "\n",
    "list_materr = return_mat_err_cond(n1,n2,n3,d1,d2,mu,Sigma,ngen=1000)\n",
    "\n",
    "#on devrait observer une gaussienne\n",
    "plt.hist([np.mean(v) for  v in list_materr], color = 'blue', edgecolor = 'black',bins = int(180/10))\n",
    "plt.show()\n"
   ]
  },
  {
   "cell_type": "markdown",
   "metadata": {
    "colab_type": "text",
    "id": "upZCGd-3nLWF"
   },
   "source": [
    "### Vitesse de convergence selon taille du problème"
   ]
  },
  {
   "cell_type": "markdown",
   "metadata": {},
   "source": [
    "On voudrait savoir ici le nombre de génération nécessaire pour que l'erreur empirique moyenne converge vers son espérance.\n",
    "Pour, on fixe $n_1 =n_2=n_3$, $d_1=d_2$,  $\\mu$ à 0 et $\\Sigma = \\mathbf{I}$ et en faisant varier $n_1$ et $d_2$.\n",
    "Je regarde au bout de combien de temps l'erreur empirique moyenne des $||A_g-A^*||_2$ semble converger.\n"
   ]
  },
  {
   "cell_type": "code",
   "execution_count": 18,
   "metadata": {
    "colab": {},
    "colab_type": "code",
    "id": "dVJe7vvinLWG"
   },
   "outputs": [
    {
     "name": "stderr",
     "output_type": "stream",
     "text": [
      "100% (1000 of 1000) |####################| Elapsed Time: 0:00:10 Time:  0:00:10\n",
      "100% (1000 of 1000) |####################| Elapsed Time: 0:02:42 Time:  0:02:42\n",
      "100% (1000 of 1000) |####################| Elapsed Time: 0:05:24 Time:  0:05:24\n"
     ]
    }
   ],
   "source": [
    "#vitesse de convergence en fonction du nombre de panélistes\n",
    "d=4 \n",
    "mu= np.zeros(d+d) \n",
    "Sigma= np.eye(d+d)\n",
    "liste_n=[30,500,1000]\n",
    "list_vconvergence_n=[]\n",
    "for i,n in enumerate(liste_n):\n",
    "\n",
    "    list_materr = return_mat_err_cond(n,n,n,d,d,mu,Sigma,ngen=1000)\n",
    "    vconvergence=[np.mean(list_materr[:n]) for n in range(len(list_materr))]\n",
    "    list_vconvergence_n.append(vconvergence)"
   ]
  },
  {
   "cell_type": "code",
   "execution_count": 69,
   "metadata": {},
   "outputs": [
    {
     "data": {
      "image/png": "[encoded data removed]",
      "text/plain": [
       "<Figure size 432x288 with 1 Axes>"
      ]
     },
     "metadata": {},
     "output_type": "display_data"
    }
   ],
   "source": [
    "np.save(\"list_vconvergence_n.npy\",list_vconvergence_n)\n",
    "#list_vconvergence_n=np.load(\"list_vconvergence_n.npy\")\n",
    "\n",
    "plt.title(\"Convergence de l'erreur en fonction de la taille de l'échantillon\")\n",
    "a,=plt.plot(list_vconvergence_n[0][:500],label='n = 30')\n",
    "b,=plt.plot(list_vconvergence_n[1][:500],label='n = 500')\n",
    "c,=plt.plot(list_vconvergence_n[2][:500],label='n = 1000')\n",
    "\n",
    "plt.xlabel(\"nombre d'itérations\")\n",
    "plt.ylabel(\"erreur moyenne\")\n",
    "plt.legend(handles=[a,b,c])\n",
    "plt.show()\n",
    "\n",
    "np.save(\"list_vconvergence_d.npy\",list_vconvergence_d)\n"
   ]
  },
  {
   "cell_type": "code",
   "execution_count": 43,
   "metadata": {},
   "outputs": [
    {
     "name": "stderr",
     "output_type": "stream",
     "text": [
      "100% (1000 of 1000) |####################| Elapsed Time: 0:00:33 Time:  0:00:33\n",
      "100% (1000 of 1000) |####################| Elapsed Time: 0:00:36 Time:  0:00:36\n",
      "100% (1000 of 1000) |####################| Elapsed Time: 0:03:24 Time:  0:03:24\n"
     ]
    }
   ],
   "source": [
    "#Vitesse de convergence en fonction du nombre de variables\n",
    "n=100\n",
    "liste_d=[4,10,100]\n",
    "list_vconvergence_d=[]\n",
    "for i,d in enumerate(liste_d):\n",
    "    mu= np.zeros(d+d) \n",
    "    Sigma= np.eye(d+d)\n",
    "    list_materr = return_mat_err(n,n,n,d,d,mu,Sigma,ngen=1000)\n",
    "    vconvergence=[np.mean(list_materr[:n]) for n in range(len(list_materr))]\n",
    "    list_vconvergence_d.append(vconvergence)\n"
   ]
  },
  {
   "cell_type": "code",
   "execution_count": 64,
   "metadata": {},
   "outputs": [
    {
     "data": {
      "image/png": "[encoded data removed]",
      "text/plain": [
       "<Figure size 432x288 with 1 Axes>"
      ]
     },
     "metadata": {},
     "output_type": "display_data"
    }
   ],
   "source": [
    "np.save(\"list_vconvergence_d.npy\",list_vconvergence_d)\n",
    "#list_vconvergence_n=np.load(\"list_v_convergence_n.npy\")\n",
    "\n",
    "plt.title(\"Convergence de l'erreur en fonction du nombre de variables\")\n",
    "d,=plt.plot(list_vconvergence_d[0][:500],label='d = 4')\n",
    "e,=plt.plot(list_vconvergence_d[1][:500],label='d = 10')\n",
    "f,=plt.plot(list_vconvergence_d[2][:500],label='d = 100')\n",
    "\n",
    "plt.xlabel(\"nombre d'itérations\")\n",
    "plt.ylabel(\"erreur moyenne\")\n",
    "plt.legend(handles=[d,e,f])\n",
    "plt.show()"
   ]
  },
  {
   "cell_type": "markdown",
   "metadata": {},
   "source": [
    "Au bout de 200 itérations on aura une idée suffisamment précise de la quantité $\\mathbb{E}(||\\hat A- A^*||^2)$ "
   ]
  },
  {
   "cell_type": "markdown",
   "metadata": {
    "colab_type": "text",
    "id": "zAj-rMMTnLWP"
   },
   "source": [
    "### Influence de la matrice de corrélation sur l'erreur"
   ]
  },
  {
   "cell_type": "markdown",
   "metadata": {},
   "source": [
    "On veut observer ici l'effet sur l'estimation de la corrélation entre les variables, on pose donc $d_1 = d_2 =1$ et on fait varier le paramètre $\\sigma$ dans la matrice de variance covariance $\\begin{pmatrix} 1 & \\sigma \\\\\n",
    "\\sigma & 1\n",
    "\\end{pmatrix}$"
   ]
  },
  {
   "cell_type": "code",
   "execution_count": 34,
   "metadata": {
    "colab": {},
    "colab_type": "code",
    "id": "hD7ovoldnLWU"
   },
   "outputs": [
    {
     "name": "stderr",
     "output_type": "stream",
     "text": [
      "100% (400 of 400) |######################| Elapsed Time: 0:00:28 Time:  0:00:28\n",
      "100% (400 of 400) |######################| Elapsed Time: 0:00:28 Time:  0:00:28\n",
      "100% (400 of 400) |######################| Elapsed Time: 0:00:28 Time:  0:00:28\n",
      "100% (400 of 400) |######################| Elapsed Time: 0:00:28 Time:  0:00:28\n",
      "100% (400 of 400) |######################| Elapsed Time: 0:00:27 Time:  0:00:27\n",
      "100% (400 of 400) |######################| Elapsed Time: 0:00:28 Time:  0:00:28\n",
      "100% (400 of 400) |######################| Elapsed Time: 0:00:28 Time:  0:00:28\n",
      "100% (400 of 400) |######################| Elapsed Time: 0:00:28 Time:  0:00:28\n",
      "100% (400 of 400) |######################| Elapsed Time: 0:00:27 Time:  0:00:27\n",
      "100% (400 of 400) |######################| Elapsed Time: 0:00:28 Time:  0:00:28\n"
     ]
    }
   ],
   "source": [
    "n1=200\n",
    "n2=200\n",
    "d1=1\n",
    "d2=1\n",
    "mu=np.zeros(d1+d2)\n",
    "vec_err=[]\n",
    "for i in range(10):\n",
    "    Sigma=np.array([[1,i/10],[i/10,1]])\n",
    "    materr5 = return_mat_err_cond(n1,n1,int(n1/2),1,1,mu,Sigma,ngen=400)\n",
    "    vec_err.append(np.mean([np.mean(v) for v in materr5]))\n",
    "     "
   ]
  },
  {
   "cell_type": "code",
   "execution_count": 38,
   "metadata": {},
   "outputs": [
    {
     "data": {
      "image/png": "[encoded data removed]",
      "text/plain": [
       "<Figure size 432x288 with 1 Axes>"
      ]
     },
     "metadata": {
      "needs_background": "light"
     },
     "output_type": "display_data"
    }
   ],
   "source": [
    "plt.plot(np.arange(10)/10,vec_err)\n",
    "plt.title(\"Convergence de l'erreur en fonction de la corrélation entre variables\")\n",
    "plt.xlabel(\"valeur du paramètre de covariance\")\n",
    "plt.ylabel(\"erreur\")\n",
    "plt.show()\n"
   ]
  },
  {
   "cell_type": "markdown",
   "metadata": {},
   "source": [
    "Sur ce petit problème, l'erreur commise semble diminuer à mesure que le paramètre de corrélation augmente.\n",
    "On veut maintenant mesurer l'erreur commise sur un problème à taille réelle avec les matrices de variance covariance de la forme $$\\Sigma = \\begin{pmatrix}\n",
    "I_{d_1} & \\sigma J_{d_1,d_2} \\\\\n",
    "\\sigma J_{d_2,d_1} & I_{d_2}\n",
    "\\end{pmatrix}$$"
   ]
  },
  {
   "cell_type": "code",
   "execution_count": 20,
   "metadata": {},
   "outputs": [
    {
     "name": "stderr",
     "output_type": "stream",
     "text": [
      "100% (100 of 100) |######################| Elapsed Time: 0:00:23 Time:  0:00:23\n",
      "100% (100 of 100) |######################| Elapsed Time: 0:00:28 Time:  0:00:28\n",
      "100% (100 of 100) |######################| Elapsed Time: 0:00:30 Time:  0:00:30\n",
      "100% (100 of 100) |######################| Elapsed Time: 0:00:29 Time:  0:00:29\n",
      "100% (100 of 100) |######################| Elapsed Time: 0:00:29 Time:  0:00:29\n",
      "100% (100 of 100) |######################| Elapsed Time: 0:00:29 Time:  0:00:29\n",
      "100% (100 of 100) |######################| Elapsed Time: 0:00:31 Time:  0:00:31\n",
      "100% (100 of 100) |######################| Elapsed Time: 0:00:28 Time:  0:00:28\n",
      "100% (100 of 100) |######################| Elapsed Time: 0:00:28 Time:  0:00:28\n",
      "100% (100 of 100) |######################| Elapsed Time: 0:00:27 Time:  0:00:27\n"
     ]
    }
   ],
   "source": [
    "n1=500\n",
    "n2=500\n",
    "d1=20\n",
    "d2=20\n",
    "mu=np.zeros(d1+d2)\n",
    "vec_err2=[]\n",
    "for sigma in np.linspace(0,1/np.sqrt(d1*d2),10):\n",
    "    \n",
    "    Sigma=np.block([\n",
    "         [np.eye(d1),sigma*np.ones((d1,d2))],\n",
    "         [sigma*np.ones((d2,d1)), np.eye(d2)]\n",
    "    ])\n",
    "    materr5 = return_mat_err_cond(n1,n1,int(n1/2),1,1,mu,Sigma,ngen=100)\n",
    "    vec_err2.append(np.mean([np.mean(v) for v in materr5]))"
   ]
  },
  {
   "cell_type": "code",
   "execution_count": 22,
   "metadata": {},
   "outputs": [
    {
     "data": {
      "image/png": "[encoded data removed]",
      "text/plain": [
       "<Figure size 432x288 with 1 Axes>"
      ]
     },
     "metadata": {
      "needs_background": "light"
     },
     "output_type": "display_data"
    }
   ],
   "source": [
    "\n",
    "plt.plot(np.arange(10)/10,vec_err2)\n",
    "plt.title(\"Convergence de l'erreur en fonction de la corrélation entre variables\")\n",
    "plt.xlabel(\"valeur du paramètre de covariance\")\n",
    "plt.ylabel(\"erreur\")\n",
    "plt.show()\n"
   ]
  },
  {
   "cell_type": "markdown",
   "metadata": {},
   "source": [
    " Ici l'effet du paramètre $\\sigma$ sur l'erreur est ambigu."
   ]
  },
  {
   "cell_type": "markdown",
   "metadata": {
    "colab_type": "text",
    "id": "6fDln7tFnLWZ"
   },
   "source": [
    "### Influence du nombre de panélistes sur l'erreur"
   ]
  },
  {
   "cell_type": "markdown",
   "metadata": {},
   "source": [
    "On veut mesurer ici l'influence du nombre de panélistes sur l'erreur commise, on fixe le nombre de panélistes monos et on augmente progressivement le nombre de bis"
   ]
  },
  {
   "cell_type": "code",
   "execution_count": 26,
   "metadata": {
    "colab": {},
    "colab_type": "code",
    "id": "Ysolvk0enLWZ",
    "outputId": "3587a2ee-dd8a-414f-87be-20fe50f0df2f"
   },
   "outputs": [
    {
     "name": "stderr",
     "output_type": "stream",
     "text": [
      "100% (1000 of 1000) |####################| Elapsed Time: 0:00:31 Time:  0:00:31\n",
      "100% (1000 of 1000) |####################| Elapsed Time: 0:00:31 Time:  0:00:31\n",
      "100% (1000 of 1000) |####################| Elapsed Time: 0:00:31 Time:  0:00:31\n",
      "100% (1000 of 1000) |####################| Elapsed Time: 0:00:31 Time:  0:00:31\n",
      "100% (1000 of 1000) |####################| Elapsed Time: 0:00:30 Time:  0:00:30\n",
      "100% (1000 of 1000) |####################| Elapsed Time: 0:00:31 Time:  0:00:31\n"
     ]
    }
   ],
   "source": [
    "d1,d2=1,1\n",
    "mu=np.zeros(d1+d2)\n",
    "Sigma=np.array([[1,0.9],[0.9, 1]])\n",
    "n1=100\n",
    "n2=100\n",
    "list_n3=[5,10,25,50,100,300]\n",
    "list_err=[]\n",
    "for n3 in list_n3:\n",
    "    materr = return_mat_err_cond(n1,n2,n3,1,1,mu,Sigma,ngen=1000)\n",
    "    list_err.append(np.mean([np.mean(v) for v in materr]))\n"
   ]
  },
  {
   "cell_type": "code",
   "execution_count": 27,
   "metadata": {
    "colab": {},
    "colab_type": "code",
    "id": "JjyFbZ_gnLWc",
    "outputId": "bc6a2453-4962-489c-8a93-85d248d095f8"
   },
   "outputs": [
    {
     "data": {
      "image/png": "[encoded data removed]",
      "text/plain": [
       "<Figure size 432x288 with 1 Axes>"
      ]
     },
     "metadata": {
      "needs_background": "light"
     },
     "output_type": "display_data"
    }
   ],
   "source": [
    "plt.plot(list_n3,list_err)\n",
    "plt.title(\"Convergence de l'erreur en fonction du nombre de 'bis'\")\n",
    "plt.xlabel(\"nombre de panélistes bi\")\n",
    "plt.ylabel(\"erreur\")\n",
    "plt.show()"
   ]
  },
  {
   "cell_type": "markdown",
   "metadata": {
    "colab_type": "text",
    "id": "1GHLNTVNnLWe"
   },
   "source": [
    "On veut voir ici l'effet d'une augmentation $n_1$, $n_2$ du nombre de panélistes monos sur l'erreur commise"
   ]
  },
  {
   "cell_type": "code",
   "execution_count": 94,
   "metadata": {
    "colab": {},
    "colab_type": "code",
    "collapsed": true,
    "id": "iS9hZTRTnLWe",
    "outputId": "e25c5410-9a24-4ddc-94be-db6a812df3c5"
   },
   "outputs": [
    {
     "name": "stderr",
     "output_type": "stream",
     "text": [
      "100% (1000 of 1000) |####################| Elapsed Time: 0:00:03 Time:  0:00:03\n",
      "100% (1000 of 1000) |####################| Elapsed Time: 0:00:09 Time:  0:00:09\n",
      "100% (1000 of 1000) |####################| Elapsed Time: 0:00:17 Time:  0:00:17\n",
      "100% (1000 of 1000) |####################| Elapsed Time: 0:00:41 Time:  0:00:41\n",
      "100% (1000 of 1000) |####################| Elapsed Time: 0:01:20 Time:  0:01:20\n",
      "100% (1000 of 1000) |####################| Elapsed Time: 0:02:40 Time:  0:02:40\n",
      "100% (1000 of 1000) |####################| Elapsed Time: 0:00:10 Time:  0:00:10\n",
      "100% (1000 of 1000) |####################| Elapsed Time: 0:00:16 Time:  0:00:16\n",
      "100% (1000 of 1000) |####################| Elapsed Time: 0:00:25 Time:  0:00:25\n",
      "100% (1000 of 1000) |####################| Elapsed Time: 0:00:48 Time:  0:00:48\n",
      "100% (1000 of 1000) |####################| Elapsed Time: 0:01:26 Time:  0:01:26\n",
      "100% (1000 of 1000) |####################| Elapsed Time: 0:02:44 Time:  0:02:44\n",
      "100% (1000 of 1000) |####################| Elapsed Time: 0:00:18 Time:  0:00:18\n",
      "100% (1000 of 1000) |####################| Elapsed Time: 0:00:24 Time:  0:00:24\n",
      "100% (1000 of 1000) |####################| Elapsed Time: 0:00:32 Time:  0:00:32\n",
      "100% (1000 of 1000) |####################| Elapsed Time: 0:00:56 Time:  0:00:56\n",
      "100% (1000 of 1000) |####################| Elapsed Time: 0:01:33 Time:  0:01:33\n",
      "100% (1000 of 1000) |####################| Elapsed Time: 0:02:50 Time:  0:02:50\n",
      "100% (1000 of 1000) |####################| Elapsed Time: 0:00:44 Time:  0:00:44\n",
      "100% (1000 of 1000) |####################| Elapsed Time: 0:00:51 Time:  0:00:51\n",
      "100% (1000 of 1000) |####################| Elapsed Time: 0:00:59 Time:  0:00:59\n",
      "100% (1000 of 1000) |####################| Elapsed Time: 0:11:49 Time:  0:11:49\n",
      "100% (1000 of 1000) |####################| Elapsed Time: 0:02:06 Time:  0:02:06\n",
      "100% (1000 of 1000) |####################| Elapsed Time: 0:03:16 Time:  0:03:16\n",
      "100% (1000 of 1000) |####################| Elapsed Time: 0:01:24 Time:  0:01:24\n",
      "100% (1000 of 1000) |####################| Elapsed Time: 0:01:34 Time:  0:01:34\n",
      "100% (1000 of 1000) |####################| Elapsed Time: 0:01:44 Time:  0:01:44\n",
      "100% (1000 of 1000) |####################| Elapsed Time: 0:04:03 Time:  0:04:03\n",
      "100% (1000 of 1000) |####################| Elapsed Time: 0:02:44 Time:  0:02:44\n",
      "100% (1000 of 1000) |####################| Elapsed Time: 0:05:37 Time:  0:05:37\n",
      "100% (1000 of 1000) |####################| Elapsed Time: 0:02:48 Time:  0:02:48\n",
      "100% (1000 of 1000) |####################| Elapsed Time: 0:02:53 Time:  0:02:53\n",
      "100% (1000 of 1000) |####################| Elapsed Time: 0:02:59 Time:  0:02:59\n",
      "100% (1000 of 1000) |####################| Elapsed Time: 0:31:04 Time:  0:31:04\n",
      "100% (1000 of 1000) |####################| Elapsed Time: 0:10:09 Time:  0:10:09\n",
      "100% (1000 of 1000) |####################| Elapsed Time: 0:09:40 Time:  0:09:40\n"
     ]
    }
   ],
   "source": [
    "n3=100\n",
    "d1=1\n",
    "d2=1\n",
    "list_n1=[10,50,100,250,500,1000]\n",
    "list_n2=[10,50,100,250,500,1000]\n",
    "mu=np.zeros(d1+d2)\n",
    "\n",
    "Sigma=np.array([[1,4/5],[4/5,1]])\n",
    "\n",
    "list_mat_err=np.zeros((len(list_n1),len(list_n2)))\n",
    "for i,n1 in enumerate(list_n1):\n",
    "    for j,n2 in enumerate(list_n2):           \n",
    "        materr = return_mat_err_cond(n1,n2,n3,1,1,mu,Sigma,ngen=1000)\n",
    "        list_mat_err[i,j]=np.mean([np.mean(v) for v in materr])\n"
   ]
  },
  {
   "cell_type": "code",
   "execution_count": 407,
   "metadata": {
    "colab": {},
    "colab_type": "code",
    "id": "ZUWGWBTinLWg",
    "outputId": "7a7acd05-249b-48c9-e367-57501fe78d83"
   },
   "outputs": [
    {
     "data": {
      "image/png": "[encoded data removed]",
      "text/plain": [
       "<Figure size 432x288 with 2 Axes>"
      ]
     },
     "metadata": {},
     "output_type": "display_data"
    }
   ],
   "source": [
    "#np.save(\"list_mat_err_heatmap_n1_n2.py\",list_mat_err)\n",
    "list_mat_err=np.load(\"list_mat_err_heatmap_n1_n2.py.npy\")\n",
    "list_n1=[10,50,100,250,500,1000]\n",
    "list_n2=[10,50,100,250,500,1000]\n",
    "xticklabels=list_n1\n",
    "yticklabels=list_n2\n",
    "ax = sns.heatmap(list_mat_err,cbar_kws={'label': 'erreur'},xticklabels=xticklabels,yticklabels=yticklabels) \n",
    "plt.title(\"Erreur en fonction des tailles d'échantillons non-'bis'\")\n",
    "plt.xlabel(\"nombre d'individus portable\")\n",
    "plt.ylabel(\"nombre d'individus tablettes\")\n",
    "plt.show()"
   ]
  },
  {
   "cell_type": "markdown",
   "metadata": {},
   "source": [
    "### Décomposition de l'erreur"
   ]
  },
  {
   "cell_type": "markdown",
   "metadata": {},
   "source": [
    "Pour bien comprendre ce qu'il e passe au niveau de l'erreur dans le cas gaussien.\n",
    "On va fixer $n_3$, et $n_2$ et reproduire le processus pour des tailles $n_1$ de panélistes portable croissante.\n",
    "On va décomposer l'erreur en 2 parties une part due à l'aléa ie la différence entre $P_1X$ et son espérance théorique $\\mathbb{E}(P_1X|P_2X)$ et l'autre part due à l'erreur d'approximation la différence entre $\\hat \\mu$ et et l'espérance théorique. On s'attend en théorie à ce que l'erreur due à l'aléa augmente avec $n_1$ et que l'autre partie diminue. Selon les résultats obtenus dans les heatmap, en moyenne l'augmentation de l'erreur moyenne due à l'aléa devrait prendre le pas sur la diminution de l'erreur moyenne due à l'augmentation de la taille de l'échantillon"
   ]
  },
  {
   "cell_type": "code",
   "execution_count": 8,
   "metadata": {},
   "outputs": [],
   "source": [
    "def return_errors(n1,n2,n3,d1,d2,mu,Sigma):\n",
    "    \"\"\"\n",
    "    Calcul des deux types d'erreur\n",
    "    \n",
    "    Input:\n",
    "    n1,n2,n3 : nombre de panélistes mono et bis\n",
    "    d1,d2 : nombre de variables portable et tablette\n",
    "    mu, Sigma : moyenne et matrice de variance des lignes générées\n",
    "    \n",
    "    Output:  \n",
    "    tableau avec l'erreur moyenne liée à l'aléa et l'erreur moyenne liée à l'estimation\n",
    "    \"\"\"\n",
    "    n=n1+n2+n3\n",
    "    A_star,mu,Sigma=generate_A_star(n,(d1+d2),mu,Sigma)\n",
    "    PA_star=build_P_A_star(A_star,n1,n2,d1)\n",
    "   \n",
    "    #Calcul des estimateurs à partir de PA_star\n",
    "\n",
    "    mu1_hat,mu2_hat,Sigma11_hat,Sigma22_hat,Sigma12_hat = empirical_estimates(n1,n2,n3,d1,d2,PA_star)\n",
    "    \n",
    "    mean_esti=0\n",
    "    mean_alea=0\n",
    "\n",
    "    for i,Xi in enumerate(A_star):\n",
    "        if(i<n1):\n",
    "            #Sur la première partie de la base on a accès à P1Xi seulement on veut connaitre P2Xi\n",
    "            P1Xi=Xi[:d1]\n",
    "            P2Xi=Xi[d1:] \n",
    "\n",
    "            #mu théorique\n",
    "            mu_theorique_P2Xi_P1Xi=mu[d1:]+np.matmul(Sigma[d1:,:d1],np.matmul(np.linalg.inv(Sigma[:d1,:d1]),(P1Xi-mu[:d1])))\n",
    "\n",
    "            #mu empirique\n",
    "            mu_P2Xi_P1Xi=mu2_hat+np.matmul(Sigma12_hat.T,np.matmul(np.linalg.inv(Sigma11_hat),(P1Xi-mu1_hat)))\n",
    "           \n",
    "            mean_esti+=np.linalg.norm(mu_theorique_P2Xi_P1Xi-mu_P2Xi_P1Xi)\n",
    "            mean_alea+=np.linalg.norm(P2Xi-mu_P2Xi_P1Xi)\n",
    "    \n",
    "    return(np.array([mean_alea/n1,mean_esti/n1]))"
   ]
  },
  {
   "cell_type": "code",
   "execution_count": 32,
   "metadata": {},
   "outputs": [
    {
     "name": "stderr",
     "output_type": "stream",
     "text": [
      "100% (700 of 700) |######################| Elapsed Time: 0:00:00 Time:  0:00:00\n",
      "100% (700 of 700) |######################| Elapsed Time: 0:00:01 Time:  0:00:01\n",
      "100% (700 of 700) |######################| Elapsed Time: 0:00:01 Time:  0:00:01\n",
      "100% (700 of 700) |######################| Elapsed Time: 0:00:02 Time:  0:00:02\n",
      "100% (700 of 700) |######################| Elapsed Time: 0:00:02 Time:  0:00:02\n",
      "100% (700 of 700) |######################| Elapsed Time: 0:00:02 Time:  0:00:02\n",
      "100% (700 of 700) |######################| Elapsed Time: 0:00:03 Time:  0:00:03\n",
      "100% (700 of 700) |######################| Elapsed Time: 0:00:03 Time:  0:00:03\n",
      "100% (700 of 700) |######################| Elapsed Time: 0:00:04 Time:  0:00:04\n",
      "100% (700 of 700) |######################| Elapsed Time: 0:00:04 Time:  0:00:04\n"
     ]
    }
   ],
   "source": [
    "ngen=700\n",
    "courbes_erreurs=np.zeros((10,2))\n",
    "for j,n in enumerate((np.arange(10)+1)*10):\n",
    "    array_error=np.zeros((ngen,2))\n",
    "    for gen in progressbar(range(ngen)):\n",
    "        array_error[gen]=return_errors(n,n,n,d1,d2,mu,Sigma)\n",
    "    courbes_erreurs[j]=np.sum(array_error,axis=0)"
   ]
  },
  {
   "cell_type": "code",
   "execution_count": 35,
   "metadata": {},
   "outputs": [
    {
     "data": {
      "image/png": "[encoded data removed]",
      "text/plain": [
       "<Figure size 432x288 with 1 Axes>"
      ]
     },
     "metadata": {
      "needs_background": "light"
     },
     "output_type": "display_data"
    }
   ],
   "source": [
    "a,= plt.plot((np.arange(10)+1)*10,courbes_erreurs[:,0],label=\"erreur aléa\")\n",
    "b,= plt.plot((np.arange(10)+1)*10,courbes_erreurs[:,1],label=\"erreur d'estimation\")\n",
    "plt.title(\"Erreurs en fonction du nombre de panélistes\")\n",
    "plt.ylabel(\"erreur\")\n",
    "plt.xlabel(\"nombre de panélistes\")\n",
    "plt.legend(handles=[a,b])\n",
    "plt.show()\n"
   ]
  },
  {
   "cell_type": "markdown",
   "metadata": {},
   "source": [
    "### Génération des données"
   ]
  },
  {
   "cell_type": "markdown",
   "metadata": {},
   "source": [
    "Pour toute la suite on évaluera les algorithmes à partir de données générées à partir d'une matrice de variance covariance simplifiée de la forme $$\\Sigma = \\begin{pmatrix}\n",
    "I_{d_1} & \\sigma J_{d_1,d_2} \\\\\n",
    "\\sigma J_{d_2,d_1} & I_{d_2}\n",
    "\\end{pmatrix}$$ et une moyenne $\\mu$ nulle\n"
   ]
  },
  {
   "cell_type": "code",
   "execution_count": 9,
   "metadata": {},
   "outputs": [],
   "source": [
    "def generate_data(d1,d2,n1,n2,n3,mu,sigma):\n",
    "    \"\"\"\n",
    "    Génération de données avec une matrice de variance covariance simplifiée\n",
    "    \n",
    "    Input:\n",
    "    n1,n2,n3 : nombre de panélistes mono et bis\n",
    "    d1,d2 : nombre de variables portable et tablette\n",
    "    mu : moyenne et matrice de variance des lignes générées\n",
    "    sigma : paramètre sigma de la matrice de variance covariance simplifiée\n",
    "    \n",
    "    Output:  \n",
    "    A_star, PA_star : matrice complète et matrice masquée générée à partir des vecteurs gaussiens (mu,Sigma)\n",
    "    mu, Sigma : paramètres ayant servis à générer A_star et  PA_star\n",
    "    \"\"\"\n",
    "    n=n1+n2+n3\n",
    "    mu=np.zeros(d1+d2)+mu\n",
    "    mu1=mu[:d1]\n",
    "    mu2=mu[d1:]\n",
    "     \n",
    "\n",
    "    Sigma=np.block([\n",
    "         [np.eye(d1),sigma*np.ones((d1,d2))],\n",
    "         [sigma*np.ones((d2,d1)), np.eye(d2)]\n",
    "    ])\n",
    "\n",
    "    A_star,_,_=generate_A_star(n,(d1+d2), mu , Sigma)#\n",
    "    PA_star=build_P_A_star(A_star,n1,n2,d1)#n_1,n_2,d_1 #matrice avec le masque qu'on va fixer\n",
    "    \n",
    "    return (A_star, PA_star, mu, Sigma)"
   ]
  },
  {
   "cell_type": "markdown",
   "metadata": {},
   "source": [
    "### Intervalles de confiance"
   ]
  },
  {
   "cell_type": "markdown",
   "metadata": {},
   "source": [
    "Je vérifie ici dans le cas où $\\Sigma$ connu que l'estimateur plug-in $\\hat mu_{P1X_i}$ tombe bien dans l'intervalle de confiance théorique (à 95 %) calculable \n",
    "à l'aide $\\tilde \\Sigma = \\frac{1}{n_2+n_3}I_{d_2}+\\frac{n_2-n_3}{(n_2+n_3)(n_1+n_3)}\\sigma^2 d_1 J_{d_2,d_2}$\n",
    "\n",
    "Il nous faut faire ceci en plusieurs étapes : \n",
    "\n",
    "1) je génère la matrice de données ce qui me permet d'avoir les estimateurs empiriques et je me concentre sur la première ligne de la matrice résultante \n",
    "\n",
    "2) je calcule les bornes d'IC 95% (avec Sigma connu) et je regarde combien de fois on tombe à l'intérieur \n"
   ]
  },
  {
   "cell_type": "code",
   "execution_count": 39,
   "metadata": {},
   "outputs": [
    {
     "name": "stderr",
     "output_type": "stream",
     "text": [
      "100% (2000 of 2000) |####################| Elapsed Time: 0:00:44 Time:  0:00:44\n"
     ]
    }
   ],
   "source": [
    "#A matrice Sigma connue d'abord\n",
    "list_chi=[]\n",
    "d1=50\n",
    "d2=50\n",
    "n1=2000\n",
    "n2=2000\n",
    "n3=2000\n",
    "\n",
    "for it in progressbar(range(2000)):\n",
    "   \n",
    "    A_star, PA_star, mu, Sigma = generate_data(d1,d2,n1,n2,n3,6,0.01)\n",
    "    P1Xi = PA_star[0][:d1]\n",
    "    S11_inv = np.linalg.inv(Sigma[:d1,:d1])\n",
    "    S21 = Sigma[:d1,d1:].T\n",
    "    S22 = Sigma[d1:,d1:]\n",
    "\n",
    "    #calcul de l'espérance conditionnelle théorique (inconnue en théorie)\n",
    "    mu_cond = mu[d1:] + np.dot(np.matmul(S21,S11_inv),(P1Xi-mu[:d1]))\n",
    "\n",
    "    #calcul de l'espérance conditionnelle estimée (on connait Sigma ici mais pas mu qu'on estime)\n",
    "    tmp = np.sum(PA_star,axis=0)\n",
    "    mu1_hat = tmp[:d1]/(n1+n3)\n",
    "    mu2_hat = tmp[d1:]/(n2+n3)\n",
    "\n",
    "    mu_cond_hat = mu2_hat + np.dot(np.matmul(S21,S11_inv),(P1Xi-mu1_hat))\n",
    "\n",
    "    #Calcul de $\\tilde \\Sigma$\n",
    "    Sigma_tilde = S22/(n2+n3) + np.matmul(np.matmul(S21,S11_inv),S21.T)*(n2-n3)/((n1+n3)*(n2+n3))\n",
    "\n",
    "    #j'ai une statistique du khi2 dont je calcule le quantile à 95 %\n",
    "    chi = np.dot(np.dot(mu_cond_hat-mu_cond,np.linalg.inv(Sigma_tilde)),mu_cond_hat-mu_cond)\n",
    "    #Inverse fonction de survie =S=1-F donc on prend l'inverse 0.05 pour avoir le quantile à 95 %\n",
    "\n",
    "    list_chi.append(chi)\n",
    "\n",
    "quant=chi2.isf(0.05, d2, loc=0, scale=1)\n",
    "\n"
   ]
  },
  {
   "cell_type": "code",
   "execution_count": 40,
   "metadata": {},
   "outputs": [
    {
     "data": {
      "image/png": "[encoded data removed]",
      "text/plain": [
       "<Figure size 432x288 with 1 Axes>"
      ]
     },
     "metadata": {
      "needs_background": "light"
     },
     "output_type": "display_data"
    }
   ],
   "source": [
    "#np.sum(list_chi<=quant)/len(list_chi) #-> on a bien 95 % dans l'intervalle de confiance\n",
    "r = chi2.rvs(d2, size=2000,loc=0,scale=1)\n",
    "plt.hist(list_chi, alpha=0.5, label=\"distribution empirique\")\n",
    "plt.hist(r,alpha=0.5,label=\"distribution théorique\")\n",
    "plt.title(\"Vérification de la loi de l'estimateur plug-in\")\n",
    "plt.ylabel(\"nombre d'occurences\")\n",
    "plt.xlabel(\"valeur de la statistique\")\n",
    "plt.show()\n"
   ]
  },
  {
   "cell_type": "markdown",
   "metadata": {},
   "source": [
    "# Recherche du maximum de vraisemblance"
   ]
  },
  {
   "cell_type": "markdown",
   "metadata": {},
   "source": [
    "Ici on veut estimer les entrées manquantes de $PA^*$ avec un estimateur de type plug-in calculé sur la base des estimateurs du maximum de vraisemblance. "
   ]
  },
  {
   "cell_type": "markdown",
   "metadata": {},
   "source": [
    "## Maximum de vraisemblance cas simplifié"
   ]
  },
  {
   "cell_type": "markdown",
   "metadata": {},
   "source": [
    "Après avoir simplifié la paramétrisation du problème, en particulier en introduisant une matrice de variance-covariance plus simple de la forme : $$\\Sigma = \\begin{pmatrix}\n",
    "I_{d_1} & \\sigma J_{d_1,d_2} \\\\\n",
    "\\sigma J_{d_2,d_1} & I_{d_2}\n",
    "\\end{pmatrix}$$\n",
    "\n",
    "On obtient des équations vérifiées par l'estimateur du maximum de vraisemblance de $\\mu$, $\\Sigma$ Les équations obtenues sont : "
   ]
  },
  {
   "cell_type": "markdown",
   "metadata": {},
   "source": [
    "\n",
    "\\begin{equation*}\n",
    "    \\begin{pmatrix}\n",
    "    u \\\\\n",
    "    v\n",
    "    \\end{pmatrix} = A \\begin{pmatrix}\n",
    "    \\mu_1\\\\\n",
    "    \\mu_2\n",
    "    \\end{pmatrix}\n",
    "\\end{equation*}\n",
    "\n",
    "avec $$u=-\\sum_{i \\in I_1} P_1X_i - \\frac{\\sigma^2 d_2}{1-\\sigma^2 d_1 d_2}J_{d_1,d_1}\\sum_{i=n_1+n_2}^nP_1X_i + \\frac{\\sigma}{1-\\sigma^2 d_1 d_2}J_{d_1,d_2}\\sum_{i=n_1 +n_2}^n P_2X_i $$, $$v=-\\sum_{i \\in I_2} P_2X_i - \\frac{\\sigma^2 d_1}{1-\\sigma^2 d_1 d_2}J_{d_2,d_2}\\sum_{i=n_1+n_2}^n P_2X_i + \\frac{\\sigma}{1-\\sigma^2 d_1 d_2}J_{d_2,d_1}\\sum_{i=n_1 +n_2}^n P_1X_i $$\n",
    "\n",
    "et $$A = \\begin{pmatrix} -(n_1+n_3)I_1+\\frac{\\sigma^2 d_2 n_3}{1-\\sigma^2 d_2 d_1} J_{d_1,d_1} & \\frac{\\sigma n_3 }{1-\\sigma^2 d_1 d_2}J_{d_1,d_2} \\\\\n",
    "  \\frac{\\sigma n_3 }{1-\\sigma^2 d_1 d_2}J_{d_2,d_1} & -(n_2+n_3)I_2+\\frac{\\sigma^2 d_1 n_3}{1-\\sigma^2 d_2 d_1} J_{d_2,d_2}\n",
    "\\end{pmatrix}$$\n",
    "\n",
    "En $\\sigma$ :\n",
    "\\begin{equation*}\n",
    "    \\begin{split}\n",
    "        0=&\\sigma^3[-n_3(d_1d_2)^2]+ \\sigma^2[d_1d_2\\sum_{i=n_1+n_2}^n(P_1X_i-\\mu_1)^TJ_{d_1,d_2}(P_2X_i-\\mu_2)]\\\\\n",
    "        +& \\sigma [-\\sum_{i=n_1+n_2}^n d_2 \\langle P_1X_i-\\mu_1,\\mathbf{1} \\rangle^2-\\sum_{i=n_1+n_2}^n d_1 \\langle P_2X_i-\\mu_2,\\mathbf{1} \\rangle^2 + d_1d_2n_3]+ \\sum_{i=n_1+n_2}^n(P_1X_i-\\mu_1)^TJ_{d_1,d_2}(P_2X_i-\\mu_2)\n",
    "    \\end{split}\n",
    "\\end{equation*}"
   ]
  },
  {
   "cell_type": "markdown",
   "metadata": {},
   "source": [
    "\n",
    "On se propose de résoudre ces équations algorithmiquement : on recherche ici les 0 d'une fonction $(\\mu,\\sigma) \\mapsto F(\\mu,\\sigma)$ avec $F=\\begin{pmatrix}\n",
    "F_{\\mu} \\\\\n",
    "F_{\\sigma}\n",
    "\\end{pmatrix}$ \n"
   ]
  },
  {
   "cell_type": "markdown",
   "metadata": {},
   "source": [
    "### Algorithme de Newton"
   ]
  },
  {
   "cell_type": "markdown",
   "metadata": {},
   "source": [
    "En premier lieu on essaie un algorithme de type Newton alterné pour les retrouver (ce qui correspond à une descente de gradient) :\n",
    "\n",
    "- On initialise $\\mu_0$, $\\sigma_0$ et opn définit $\\eta_{\\mu}$, $\\eta_{\\sigma}$:\n",
    "- à l'étape t on calcule $\\mu_{t+1}=\\mu_{t}-\\eta_{\\mu}F_{\\mu}(\\mu_t,\\sigma_t)$ et  $\\sigma_{t+1}=\\sigma_{t}-\\eta_{\\sigma}F_{\\sigma}(\\mu_{t+1},\\sigma_t)$\n",
    "\n",
    "Pour garder une matrice de variance covariance positive, on projette les valeurs obtenues sur $\\sigma$ sur la contrainte $0\\leq \\sigma \\leq \\frac{1}{\\sqrt{d_1d_2}}$"
   ]
  },
  {
   "cell_type": "code",
   "execution_count": 10,
   "metadata": {},
   "outputs": [],
   "source": [
    "def F_mu(mu,sigma):\n",
    "    \"\"\"\n",
    "    Calcul de F_mu en fonction de la valeur des paramètres en t\n",
    "    \n",
    "    Input:\n",
    "    \n",
    "    mu : estimation de la moyenne \n",
    "    sigma : estimation du paramètre sigma à l'itération courante\n",
    "    \n",
    "    Output:  \n",
    "    f_mu : composante en mu de la fonction F\n",
    "    \"\"\"\n",
    "    mu1=mu[:d1]\n",
    "    mu2=mu[d1:]\n",
    "    \n",
    "    u=(-np.sum(np.concatenate((PA_star[:n1,:d1],PA_star[(n1+n2):,:d1])),axis=0)-((sigma**2)*d2/(1-(sigma**2)*d1*d2))* np.matmul(np.ones((d1,d1)),np.sum(PA_star[(n1+n2):,:d1],axis=0))+(sigma/(1-(sigma**2)*d1*d2))*np.matmul(np.ones((d1,d2)),np.sum(PA_star[(n1+n2):,d1:],axis=0)))\n",
    "    v=(-np.sum(PA_star[n1:,d1:],axis=0)-((sigma**2)*d1/(1-(sigma**2)*d1*d2))* np.matmul(np.ones((d2,d2)),np.sum(PA_star[(n1+n2):,d1:],axis=0))+(sigma/(1-(sigma**2)*d1*d2))*np.matmul(np.ones((d2,d1)),np.sum(PA_star[(n1+n2):,:d1],axis=0)))\n",
    "\n",
    "    A11=(-(n1+n3)*np.eye(d1)+((sigma**2)*d2*n3/(1-(sigma**2)*d2*d1)))*np.ones((d1,d1))\n",
    "    A22=(-(n2+n3)*np.eye(d2)+((sigma**2)*d1*n3/(1-(sigma**2)*d2*d1)))*np.ones((d2,d2))\n",
    "    A12=(sigma*n3/(1-(sigma**2)*d2*d1))*np.ones((d1,d2))\n",
    "    A=np.block([\n",
    "         [A11,A12],\n",
    "         [A12.T,A22]\n",
    "    ])\n",
    "    \n",
    "    f_mu=np.dot(A,mu)-np.concatenate((u,v))\n",
    "    \n",
    "    return f_mu\n",
    "\n",
    "def F_sigma(mu,sigma):\n",
    "    \"\"\"\n",
    "    Calcul de F_sigma en fonction de la valeur des paramètres en t\n",
    "    \n",
    "    Input:\n",
    "    \n",
    "    mu : estimation de la moyenne \n",
    "    sigma : estimation du paramètre sigma à l'itération courante\n",
    "    \n",
    "    Output:  \n",
    "    f_sigma : composante en sigma  de la fonction F\n",
    "    \"\"\"\n",
    "\n",
    "\n",
    "    mu1=mu[:d1]\n",
    "    mu2=mu[d1:]\n",
    "    \n",
    "    f_sigma=((sigma**3)\\\n",
    "    +(sigma**2)*(1/-n3*(d1*d2))*(np.trace(np.matmul(np.matmul(PA_star[(n1+n2):,:d1]-mu1,np.ones((d1,d2))),(PA_star[(n1+n2):,d1:]-mu2).T)))\\\n",
    "    +sigma*(1/-n3*d2*(d1)**2)*((-1)*np.sum(np.matmul((PA_star[(n1+n2):,:d1]-mu1),np.ones(d1))**2,axis=0)-d1*np.sum(np.matmul((PA_star[(n1+n2):,d1:]-mu2),np.ones(d2))**2,axis=0)+d1*d2*n3)\\\n",
    "    +((1/-n3*(d1*d2)**2))*np.trace(np.matmul(np.matmul(PA_star[(n1+n2):,:d1]-mu1,np.ones((d1,d2))),(PA_star[(n1+n2):,d1:]-mu2).T)) \\\n",
    "    )\n",
    "    \n",
    "    return(f_sigma)\n",
    "\n",
    "def Newton(mu,sigma,pas_mu,pas_sigma):\n",
    "    \"\"\"\n",
    "    Une itération de l'algorithme de Newton\n",
    "    Input:\n",
    "    \n",
    "    mu : estimation de la moyenne à l'itération courante\n",
    "    sigma : estimation du paramètre sigma à l'itération courante\n",
    "    \n",
    "    Output:  \n",
    "    mu, sigma : les itérations suivantes des paramètres à estimer\n",
    "    \"\"\"\n",
    "    mu=mu-pas_mu*F_mu(mu,sigma)\n",
    "    sigma=sigma-pas_sigma*F_sigma(mu,sigma)\n",
    "    \n",
    "    return (mu,sigma)\n",
    "    "
   ]
  },
  {
   "cell_type": "markdown",
   "metadata": {},
   "source": [
    "### Test de l'algorithme de Newton"
   ]
  },
  {
   "cell_type": "code",
   "execution_count": 47,
   "metadata": {
    "collapsed": true
   },
   "outputs": [
    {
     "name": "stderr",
     "output_type": "stream",
     "text": [
      "/Users/clementguillo/opt/anaconda3/lib/python3.7/site-packages/ipykernel_launcher.py:16: RuntimeWarning: divide by zero encountered in double_scalars\n",
      "  app.launch_new_instance()\n",
      "/Users/clementguillo/opt/anaconda3/lib/python3.7/site-packages/ipykernel_launcher.py:16: RuntimeWarning: invalid value encountered in add\n",
      "  app.launch_new_instance()\n",
      "/Users/clementguillo/opt/anaconda3/lib/python3.7/site-packages/ipykernel_launcher.py:17: RuntimeWarning: divide by zero encountered in double_scalars\n",
      "/Users/clementguillo/opt/anaconda3/lib/python3.7/site-packages/ipykernel_launcher.py:17: RuntimeWarning: invalid value encountered in add\n",
      "/Users/clementguillo/opt/anaconda3/lib/python3.7/site-packages/ipykernel_launcher.py:19: RuntimeWarning: divide by zero encountered in double_scalars\n",
      "/Users/clementguillo/opt/anaconda3/lib/python3.7/site-packages/ipykernel_launcher.py:20: RuntimeWarning: divide by zero encountered in double_scalars\n",
      "/Users/clementguillo/opt/anaconda3/lib/python3.7/site-packages/ipykernel_launcher.py:21: RuntimeWarning: divide by zero encountered in double_scalars\n"
     ]
    },
    {
     "name": "stdout",
     "output_type": "stream",
     "text": [
      "0.02\n",
      "nan\n",
      "nan\n",
      "nan\n",
      "nan\n",
      "nan\n",
      "nan\n",
      "nan\n",
      "nan\n",
      "nan\n",
      "nan\n",
      "nan\n",
      "nan\n",
      "nan\n",
      "nan\n",
      "nan\n",
      "nan\n",
      "nan\n",
      "nan\n",
      "nan\n",
      "nan\n",
      "nan\n",
      "nan\n",
      "nan\n",
      "nan\n",
      "nan\n",
      "nan\n",
      "nan\n",
      "nan\n",
      "nan\n"
     ]
    }
   ],
   "source": [
    "# je lance l'algorithme de newton\n",
    "mut=np.zeros(d1+d2)+3\n",
    "sigmat=0.007\n",
    "niter=30\n",
    "for i in range(niter):\n",
    "    mut,sigmat=Newton(mut,sigmat,0.03,0.001)\n",
    "    if(sigmat>1/np.sqrt(d1*d2)):\n",
    "        sigmat=1/np.sqrt(d1*d2)\n",
    "        mut=F_mu(mut,sigmat)\n",
    "    if(sigmat<0):\n",
    "        sigmat=0\n",
    "        mut=F_mu(mut,sigmat)\n",
    "    print(sigmat)\n"
   ]
  },
  {
   "cell_type": "markdown",
   "metadata": {},
   "source": [
    "On observe une divergence numérique assez rapide ici. L'algorithme est assez instable ce qui est sûrement dû au fait que les coefficients du polynôme en sigma sont très grands on opte sur une méthode de résolution récursive plus bas"
   ]
  },
  {
   "cell_type": "markdown",
   "metadata": {},
   "source": [
    "### Tentative avec résolution du polynome"
   ]
  },
  {
   "cell_type": "markdown",
   "metadata": {},
   "source": [
    "\n",
    "- On initialise $\\mu_0$, $\\sigma_0$ et opn définit $\\eta_{\\mu}$, $\\eta_{\\sigma}$:\n",
    "- à l'étape t on trouve $\\sigma_{t+1}$ tel que $F_{\\sigma}(\\mu_t,\\sigma_{t+1})=0$ et  $\\mu_{t+1}$ tel que $F_{\\sigma}(\\mu_{t+1},\\sigma_{t+1})=0$"
   ]
  },
  {
   "cell_type": "code",
   "execution_count": 11,
   "metadata": {},
   "outputs": [],
   "source": [
    "\n",
    "def roots_sigma(mu):\n",
    "    \"\"\"\n",
    "    Calcul des racines de F_sigma en sigma et à mu fixé\n",
    "    On ne retient que les racines rélles >0 et < 1/sqrt(d1d2) pour que la matrice sigma reste définie positive\n",
    "    \n",
    "    Input:\n",
    "    \n",
    "    mu : estimation de la moyenne \n",
    "    sigma : estimation du paramètre sigma à l'itération courante\n",
    "    \n",
    "    Output:  \n",
    "    f_sigma : composante en sigma  de la fonction F\n",
    "    \"\"\"\n",
    "\n",
    "\n",
    "    borne=1/(np.sqrt(d1*d2))\n",
    "    mu1=mu[:d1]\n",
    "    mu2=mu[d1:]\n",
    "\n",
    "    a = (-n3*(d1*d2)**2)\n",
    "    b = (d1*d2*np.trace(np.matmul(np.matmul(PA_star[(n1+n2):,:d1]-mu1,np.ones((d1,d2))),(PA_star[(n1+n2):,d1:]-mu2).T)))\n",
    "    c = (-d2*np.sum(np.matmul((PA_star[(n1+n2):,:d1]-mu1),np.ones(d1))**2,axis=0)-d1*np.sum(np.matmul((PA_star[(n1+n2):,d1:]-mu2),np.ones(d2))**2,axis=0)+d1*d2*n3)\n",
    "    d = np.trace(np.matmul(np.matmul(PA_star[(n1+n2):,:d1]-mu1,np.ones((d1,d2))),(PA_star[(n1+n2):,d1:]-mu2).T)) \n",
    "\n",
    "    p = np.poly1d([a, b, c, d])\n",
    "    #print(np.poly1d(p))\n",
    "    rac=p.r[numpy.isreal(p.r)]\n",
    "    rac1=rac[rac <= borne]\n",
    "    if len(rac1)==0:\n",
    "        return(borne)\n",
    "    if  len(rac1[rac1 > 0])==0:\n",
    "        return(0)\n",
    "    \n",
    "    return np.float(rac1[rac1 > 0][0]) #Rajouter une condition sur sigma  plus petit que 1/sqrt(d1d2)\n",
    "\n",
    "def solve_mu(sigma):\n",
    "    \n",
    "    u=(1/n)*(-np.sum(np.concatenate((PA_star[:n1,:d1],PA_star[(n1+n2):,:d1])),axis=0)-((sigma**2)*d2/(1-(sigma**2)*d1*d2))* np.matmul(np.ones((d1,d1)),np.sum(PA_star[(n1+n2):,:d1],axis=0))+(sigma/(1-(sigma**2)*d1*d2))*np.matmul(np.ones((d1,d2)),np.sum(PA_star[(n1+n2):,d1:],axis=0)))\n",
    "    v=(1/n)*(-np.sum(PA_star[n1:,d1:],axis=0)-((sigma**2)*d1/(1-(sigma**2)*d1*d2))* np.matmul(np.ones((d2,d2)),np.sum(PA_star[(n1+n2):,d1:],axis=0))+(sigma/(1-(sigma**2)*d1*d2))*np.matmul(np.ones((d2,d1)),np.sum(PA_star[(n1+n2):,:d1],axis=0)))\n",
    "\n",
    "    A11=(-(n1+n3)*np.eye(d1)+((sigma**2)*d2*n3/(1-(sigma**2)*d2*d1)))*np.ones((d1,d1))\n",
    "    A22=(-(n2+n3)*np.eye(d2)+((sigma**2)*d1*n3/(1-(sigma**2)*d2*d1)))*np.ones((d2,d2))\n",
    "    A12=(sigma*n3/(1-(sigma**2)*d2*d1))*np.ones((d1,d2))\n",
    "    A=(1/n)*np.block([\n",
    "         [A11,A12],\n",
    "         [A12.T,A22]\n",
    "    ])\n",
    "    \n",
    "    return np.linalg.solve(A,np.concatenate((u,v)))   \n"
   ]
  },
  {
   "cell_type": "code",
   "execution_count": 181,
   "metadata": {},
   "outputs": [
    {
     "name": "stderr",
     "output_type": "stream",
     "text": [
      "100% (300 of 300) |######################| Elapsed Time: 0:00:00 Time:  0:00:00\n"
     ]
    },
    {
     "data": {
      "image/png": "[encoded data removed]",
      "text/plain": [
       "<Figure size 432x288 with 1 Axes>"
      ]
     },
     "metadata": {
      "needs_background": "light"
     },
     "output_type": "display_data"
    }
   ],
   "source": [
    "niter,d1,d2,n1,n2,n3,mu,sigma = 300,10,10,400,400,50,2,0.09\n",
    "n=n1+n2+n3\n",
    "A_star, PA_star, mu, Sigma = generate_data(d1,d2,n1,n2,n3,mu,sigma)\n",
    "\n",
    "\n",
    "sigmat=0\n",
    "mut=np.zeros(d1+d2)+5\n",
    "\n",
    "list_sigmat=[]\n",
    "\n",
    "for i in progressbar(range(niter)):\n",
    "    sigmat=roots_sigma(mut)\n",
    "    list_sigmat.append(sigmat)\n",
    "    mut=solve_mu(sigmat)\n",
    "   \n",
    "    \n",
    "plt.plot(list_sigmat)\n",
    "plt.title(\"Convergence du. paramètre sigma\")\n",
    "plt.ylabel(\"sigma t\")\n",
    "plt.xlabel(\"itération\")\n",
    "plt.show()\n",
    "\n"
   ]
  },
  {
   "cell_type": "code",
   "execution_count": 12,
   "metadata": {},
   "outputs": [],
   "source": [
    "def build_A_star_hat_EMV(PA_star):\n",
    "    \"\"\"\n",
    "    Complétion de la matrice PA_star à partir des estimateurs du maximum de vraisemblance obtenu\n",
    "    Input:\n",
    "    \n",
    "    PA_star : la matrice à compléter\n",
    "    \n",
    "    Output:  \n",
    "    A_star_hat_EMV : Matrice complétée avec l'estimateurplug-in basé sur les estimations du MV\n",
    "    \"\"\"\n",
    "    #Initialisation\n",
    "    sigmat=2\n",
    "    mut=np.zeros(d1+d2)+5\n",
    "\n",
    "    for i in range(niter):\n",
    "        sigmat=roots_sigma(mut)\n",
    "        mut=solve_mu(sigmat)\n",
    "        \n",
    "    mu1=mut[:d1]\n",
    "    mu2=mut[d1:]\n",
    "    \n",
    "    #Reconstruction de Sigma\n",
    "\n",
    "    Sigma_EMV=np.block([\n",
    "         [np.eye(d1),sigmat*np.ones((d1,d2))],\n",
    "         [sigmat*np.ones((d2,d1)), np.eye(d2)]\n",
    "    ])\n",
    "\n",
    "    #Et on reconstruit A_star\n",
    "    A_star_hat_EMV=build_A_star_hat(mut[:d1],mut[d1:],Sigma_EMV[:d1,:d1],Sigma_EMV[:d1,:d1],Sigma_EMV[:d1,:d1],n1,n2,n3,d1,d2,PA_star)\n",
    "    return A_star_hat_EMV"
   ]
  },
  {
   "cell_type": "markdown",
   "metadata": {},
   "source": [
    "## Recherche du maximum de vraisemblance via l'algorithme EM"
   ]
  },
  {
   "cell_type": "markdown",
   "metadata": {},
   "source": [
    "Dans le cadre Gaussien, en supposant la matrice de variance covariance connue, on obtient les équations récursives suivantes sur les paramètres de moyenne via l'algorithme EM utilisé en présence de valeurs manquantes."
   ]
  },
  {
   "cell_type": "markdown",
   "metadata": {},
   "source": [
    "\\begin{equation*}\n",
    "    \\begin{split}\n",
    "        n[(\\Sigma^{-1})_{1,1} \\mu_1 + (\\Sigma^{-1})_{1,2} \\mu_2] &=a\\\\\n",
    "        n[(\\Sigma^{-1})_{2,2} \\mu_2 + (\\Sigma^{-1})_{2,1} \\mu_1] &=b\n",
    "    \\end{split}\n",
    "\\end{equation*}\n",
    "\n",
    "\n",
    "ie $$\\begin{pmatrix} \n",
    "\\mu_1 \\\\\n",
    "\\mu_2\n",
    "\\end{pmatrix} =\\frac{1}{n}\\Sigma \\begin{pmatrix} \n",
    "a \\\\\n",
    "b\n",
    "\\end{pmatrix} $$\n",
    "\n",
    "$$a= \\sum_{i\\in I_1}(\\Sigma^{-1})_{1,1}(P_1X_i)+ \\sum_{i \\in I_2}(\\Sigma^{-1})_{1,2}(P_2X_i)+\\sum_{i=1}^{n_1}(\\Sigma^{-1})_{1,2}\\tilde \\mu_{i2}^{old}+\\sum_{i=n_1+1}^{n_1+n_2}(\\Sigma^{-1})_{1,1}\\tilde \\mu_{i1}^{old}$$\n",
    "$$b=\\sum_{i\\in I_2}(\\Sigma^{-1})_{2,2}(P_2X_i)+ \\sum_{i \\in I_1}(\\Sigma^{-1})_{2,1}(P_1X_i)+\\sum_{i=n_1+1}^{n_1+n_2}(\\Sigma^{-1})_{2,1}\\tilde \\mu_{i1}^{old}+\\sum_{i=1}^{n_1}(\\Sigma^{-1})_{2,2}\\tilde \\mu_{i2}^{old}$$\n",
    "\n",
    "$$\\tilde \\mu_1^{old}=\\mu_1^{old}+ (\\Sigma_{2,1}^{old})^T(\\Sigma_{2,2}^{old})^{-1}(P_2X_i-\\mu_2^{old})$$\n",
    "$$\\tilde \\mu_2^{old}=\\mu_2^{old}+ (\\Sigma_{1,2}^{old})^T(\\Sigma_{1,1}^{old})^{-1}(P_1X_i-\\mu_1^{old})$$\n"
   ]
  },
  {
   "cell_type": "markdown",
   "metadata": {},
   "source": [
    "On trouve les paramètres $\\mu_1$ et $\\mu_2$ qui nous servirons de base pour la prochaine itération de l'algorithme qui convergera vers l'estimateur du maximum de vraisemblance. Dans la fonction suivante on effectue donc une itération de l'algorithme EM, le paramètre $\\mu$ étant défini par le résultat de l'itération précédente."
   ]
  },
  {
   "cell_type": "code",
   "execution_count": 13,
   "metadata": {},
   "outputs": [],
   "source": [
    "def EM(mu,Sigma):\n",
    "    \"\"\"\n",
    "    Calcul d'une itération de l'algorithme EM \n",
    "    Input:\n",
    "    mu: itération courante des paramètres du modèle\n",
    "    Sigma: matrice de variance-covariance du modèle \n",
    "    \n",
    "    Output:  \n",
    "    itération suivante de l'EM pour mu\n",
    "    \"\"\"\n",
    "  \n",
    "    mu1=mu[:d1]\n",
    "    mu2=mu[d1:]\n",
    "\n",
    "    Sigma_inv=np.linalg.inv(Sigma)\n",
    "\n",
    "    mu2_old=mu2+(np.matmul(np.matmul(Sigma[:d1,d1:].T,np.linalg.inv(Sigma[:d1,:d1])),(PA_star[:,:d1]-mu1).T)).T\n",
    "    mu1_old=mu1+(np.matmul(np.matmul(Sigma[d1:,:d1].T,np.linalg.inv(Sigma[d1:,d1:])),(PA_star[:,d1:]-mu2).T)).T\n",
    "\n",
    "    a=np.matmul(Sigma_inv[:d1,:d1],np.sum(np.concatenate((PA_star[:n1,:d1],PA_star[(n1+n2):,:d1])),axis=0)) \\\n",
    "    + np.matmul(Sigma_inv[:d1,d1:],np.sum(PA_star[n1:,d1:],axis=0)) \\\n",
    "    + np.matmul(Sigma_inv[:d1,d1:],np.sum(mu2_old[:n1,:],axis=0))   \\\n",
    "    + np.matmul(Sigma_inv[:d1,:d1],np.sum(mu1_old[n1:(n1+n2),:],axis=0))\n",
    "\n",
    "    b=np.matmul(Sigma_inv[d1:,d1:],np.sum(PA_star[n1:,d1:],axis=0)) \\\n",
    "    + np.matmul(Sigma_inv[d1:,:d1],np.sum(np.concatenate((PA_star[:n1,:d1],PA_star[(n1+n2):,:d1])),axis=0)) \\\n",
    "    + np.matmul(Sigma_inv[d1:,:d1],np.sum(mu1_old[n1:(n1+n2),:],axis=0))   \\\n",
    "    + np.matmul(Sigma_inv[d1:,d1:],np.sum(mu2_old[:n1,:],axis=0))\n",
    "\n",
    "    return (1/n)*np.matmul(Sigma,np.concatenate((a,b)))"
   ]
  },
  {
   "cell_type": "markdown",
   "metadata": {},
   "source": [
    "### Test de l'algorithme EM"
   ]
  },
  {
   "cell_type": "code",
   "execution_count": 58,
   "metadata": {},
   "outputs": [
    {
     "data": {
      "image/png": "[encoded data removed]",
      "text/plain": [
       "<Figure size 432x288 with 1 Axes>"
      ]
     },
     "metadata": {
      "needs_background": "light"
     },
     "output_type": "display_data"
    }
   ],
   "source": [
    "#test\n",
    "niter,d1,d2,n1,n2,n3,mu,sigma = 3000,10,10,100,100,50,2,0.009\n",
    "n=n1+n2+n3\n",
    "A_star, PA_star, mu, Sigma = generate_data(d1,d2,n1,n2,n3,mu,sigma)\n",
    "\n",
    "#Lancement de l'algorithme\n",
    "mut=np.zeros(d1+d2)+30\n",
    "\n",
    "list_mut=[]\n",
    "for i in range(niter):\n",
    "    mut=EM(mut,Sigma)\n",
    "    list_mut.append(mut)\n",
    "\n",
    "A_star_hat_EM1=build_A_star_hat(mut[:d1],mut[d1:],Sigma[:d1,:d1],Sigma[:d1,:d1],Sigma[:d1,:d1],n1,n2,n3,d1,d2,PA_star)\n",
    "\n",
    "plt.title(\"Convergence de l'algorithme EM\")\n",
    "plt.xlabel(\"nombre d'itérations\")\n",
    "plt.ylabel(\"mu t\")\n",
    "plt.plot(np.array(list_mut)[:10,0])\n",
    "plt.plot(np.repeat(mu[0],10))\n",
    "plt.show()"
   ]
  },
  {
   "cell_type": "markdown",
   "metadata": {},
   "source": [
    "### Estimation de $\\hat A^*$ via l'algorithme EM"
   ]
  },
  {
   "cell_type": "markdown",
   "metadata": {},
   "source": [
    "Plutôt que de supposer $\\Sigma$ connu on va l'estimer à l'aide des données $PA^*$, puis on appliquera l'algorithme EM en supposant que $\\hat \\Sigma$ estime correctement $\\Sigma$"
   ]
  },
  {
   "cell_type": "code",
   "execution_count": 14,
   "metadata": {},
   "outputs": [],
   "source": [
    "def build_A_star_hat_EM(PA_star):\n",
    "    \"\"\"\n",
    "    Complète les valeurs de la matrice incomplète via les estimazteurs plug-in obtenus en utilisant l'algorithme EM\n",
    "    Input:\n",
    "    PA_star : la matrice à compléter\n",
    "    \n",
    "    Output:  \n",
    "    A_star_hat_EM : la matrice complétée\n",
    "    \"\"\"\n",
    "    mu1_hat,mu2_hat,Sigma11_hat,Sigma22_hat,Sigma12_hat=empirical_estimates(n1,n2,n3,d1,d2,PA_star)\n",
    "    Sigma_emp=np.block([\n",
    "         [Sigma11_hat,Sigma12_hat],\n",
    "         [Sigma12_hat.T, Sigma22_hat]\n",
    "    ])\n",
    "    mut=np.zeros(d1+d2)+30\n",
    "\n",
    "    for i in range(niter):\n",
    "        mut=EM(mut,Sigma_emp) \n",
    "\n",
    "    A_star_hat_EM=build_A_star_hat(mut[:d1],mut[d1:],Sigma_emp[:d1,:d1],Sigma_emp[:d1,:d1],Sigma_emp[:d1,:d1],n1,n2,n3,d1,d2,PA_star)\n",
    "    return(A_star_hat_EM)\n"
   ]
  },
  {
   "cell_type": "markdown",
   "metadata": {},
   "source": [
    "# Modèle de Poisson Multinomial"
   ]
  },
  {
   "cell_type": "markdown",
   "metadata": {},
   "source": [
    "On considère les ligne de $A^*$ sont des vecteurs aléatoires $X_i=(X^1,..,X^d)$ générés par le processus de suivant : on génère de manière indépendante $Y^i \\sim \\mathcal{P}(\\theta_i), i = 0,..,d$.\n",
    "Et on pose $X^i = Y^i + Y^0$ de telle sorte que $cov(X^i,X^j)=Var(Y^0)=\\theta_0$. Ce modèle nous permet de contrôler la corrélation entre nos variables.\\\\\n",
    "\n",
    "\n",
    "En posant $p=(\\theta_0,..,\\theta_p)$. La forme générale de la vraisemblance est la suivante :\n",
    "\n",
    "$$P(X_i,p)=P(X_i^1=x_i^1,..,X_i^d=x_i^d)=\\exp(-\\sum_{i=1}^d \\theta_i)\\prod_{j=1}^d\\frac{\\theta_i^{x^j_i}}{x^j_i!}\\sum_{u=0}^{s_i}\\prod_{j=1}^d C_{x^j_i}^u(u!)^{d-1}\\left(\\frac{\\theta_0}{\\prod_{i=1}^d\\theta_i}\\right)^u$$\n"
   ]
  },
  {
   "cell_type": "markdown",
   "metadata": {},
   "source": [
    "## Algorithme EM dans le cas de données complètes"
   ]
  },
  {
   "cell_type": "markdown",
   "metadata": {},
   "source": [
    "Ici on veut appliquer l'algortithme EM pour estimer les paramètres d'un modèle de Poisson multinomial sur données simulées :\n",
    "\n",
    "Les équations récursives obtenues sont les suivantes :\n",
    "\n",
    "\\begin{equation*}\n",
    "    \\begin{split}\n",
    "        \\theta_0^{(k+1)}&= \\frac{1}{n}\\sum_{i=1}^n E[Y_i^0|X,\\theta^{(k)}]\\\\\n",
    "        \\theta_j^{(k+1)}&=\\frac{1}{n}\\sum_{i=1}x_i^j-\\theta_0^{(k)}\\\\\n",
    "    \\end{split}\n",
    "\\end{equation*}\n",
    "\n",
    "Pour chaque ligne $X_i=(x_{i1},..x_{id})$ de la matrice (complète), on pose $s_i = \\min_j(x_{i,j})$ et il faut donc  calculer :\n",
    "\\begin{equation*}\n",
    "    \\begin{split}\n",
    "        \\mathbb{E}(Y_{i}^0|X_i,\\theta)=\\sum_{k=0}^{s_i} kP(Y_{i}^0=k|X_i,\\theta)\n",
    "    \\end{split}{}\n",
    "\\end{equation*}\n",
    "\n",
    "Avec :\n",
    "$$\\displaystyle P(Y_{i}^0=k|X_i,\\theta)=\\frac{\\displaystyle \\frac{\\theta_0^k}{k!}\\prod_{j=1}^d\\frac{\\theta_j^{-k}}{(x_i^j-k)!}     } {\\displaystyle \\sum_{u=0}^{s_i} \\frac{\\theta_0^u}{u!}\\prod_{j=1}^d \\frac{\\theta_j^{-u}}{(x_i^j-u)!} }$$\n",
    "\n",
    "Le calcul de ces quantités nécessite une attention particulière dans la mesure où si on les calcule directement un problème d'underflow survient. Pour le gérer on procède de la sorte :\n",
    "\n",
    "- on pose $\\alpha_k=\\frac{\\theta_0^k}{k!}\\prod_{j=1}^d\\frac{\\theta_j^{-k}}{(x_i^j-k)!}$ \n",
    "- on calcule le vecteur $(\\log(\\alpha_1),..,\\log(\\alpha_{s_i}))$\n",
    "- on obtient $\\log(\\alpha_{max})=\\max_j \\log(\\alpha_j)$ et on construit :\n",
    "$(\\log(\\frac{\\alpha_1}{\\alpha_{max}}),..,\\log(\\frac{\\alpha_{s_i}}{\\alpha_{max}}))$\n",
    "- L'underflow étant évité par la précédente normalisation, on peut enfin passer à l'exponentielle chacune des composantes du vecteur et construire la probabilité souhaitée"
   ]
  },
  {
   "cell_type": "code",
   "execution_count": 15,
   "metadata": {},
   "outputs": [],
   "source": [
    "# Génération de données complètes\n",
    "def generate_A_star_poisson(d,n,theta_0):\n",
    "    \"\"\"\n",
    "    Génère des données A_star suivant un modèle de Poisson multinomial  \n",
    "    \n",
    "    Input:\n",
    "    d,n : nombre de colonnes et nombre de lignes de la base\n",
    "    theta_0 : le paramètre de moyenne de la variable latente Y^0 jamais observée\n",
    "    \n",
    "    Output:  \n",
    "    A_star : la matrice générée\n",
    "    \"\"\"\n",
    "    theta_is=np.arange(d)+1\n",
    "    A_star=np.zeros([n,d])\n",
    "    \n",
    "    for i,theta_i in enumerate(theta_is):\n",
    "            A_star[:,i]=np.random.poisson(theta_i,n)\n",
    "    for i,l in enumerate(A_star): # Même génération pour toute la ligne\n",
    "           A_star[i]+=np.random.poisson(theta_0)\n",
    "    \n",
    "    return A_star\n",
    "\n",
    "        \n",
    "def iteration_EM_Poisson(theta_0_t,theta_is_t,A_star):\n",
    "    \"\"\"\n",
    "    Une itération de l'algorithme EM sur des données complètes\n",
    "    \n",
    "    Input:\n",
    "    d,n : nombre de colonnes et nombre de lignes de la base\n",
    "    theta_0 : le paramètre de moyenne de la variable latente Y^0 jamais observée\n",
    "    theta_is : liste des paramètres de moyenne des Y_i\n",
    "    A_star : La matrice de donnée\n",
    "    \n",
    "    Output:  \n",
    "    theta_O_t2, theta_is_t2 : les paramètres du modèles estimés à l'itération suivante\"\"\"\n",
    "    list_esp=[]\n",
    "    A_star_copy=copy.deepcopy(A_star)\n",
    "    A_star_copy=np.round(A_star_copy)\n",
    "    A_star_copy[A_star_copy<0]=0\n",
    "    for X in A_star_copy:\n",
    "\n",
    "        list_log=[]\n",
    "        s_i=np.int(np.min(X))\n",
    "        if s_i==0:\n",
    "            list_esp.append(0)\n",
    "        else:    \n",
    "            \n",
    "            for k in (np.arange(s_i)+1):\n",
    "                list_log.append(k*np.log(theta_0_t)-np.log(np.float(math.factorial(k))) + np.sum([-k*np.log(theta_is_t[i])-np.log(np.float(math.factorial(xij-k))) for i,xij in enumerate(X)]))\n",
    "\n",
    "            #ok j'identifie le max et je normalise pour éviter l'overflow\n",
    "            log_alpha_max = np.max(list_log)\n",
    "            list_alpha_norm = np.exp(list_log-log_alpha_max)\n",
    "            list_prob_cond=list_alpha_norm/np.sum(list_alpha_norm)\n",
    "            esp=np.sum((np.arange(s_i)+1)*list_prob_cond)\n",
    "            list_esp.append(esp)\n",
    "\n",
    "    theta_0_t2=np.mean(list_esp)\n",
    "    theta_is_t2=np.mean(A_star,axis=0)-theta_0_t\n",
    "    theta_is_t2[theta_is_t2<0]=0\n",
    "    return(theta_0_t2,theta_is_t2)\n",
    "\n",
    "\n"
   ]
  },
  {
   "cell_type": "markdown",
   "metadata": {},
   "source": [
    "### Test de l'algorithme EM sur modèle de Poisson multinomial"
   ]
  },
  {
   "cell_type": "code",
   "execution_count": 133,
   "metadata": {},
   "outputs": [
    {
     "name": "stderr",
     "output_type": "stream",
     "text": [
      "100% (70 of 70) |########################| Elapsed Time: 0:00:32 Time:  0:00:32\n"
     ]
    }
   ],
   "source": [
    "#Lancement de l'algorithme EM\n",
    "np.random.seed(1234)\n",
    "\n",
    "d,n = 6,1500\n",
    "A_star=generate_A_star_poisson(d,n,5)\n",
    "\n",
    "n_iter=70\n",
    "\n",
    "#Initialisation\n",
    "theta_0_t=np.min(np.mean(A_star,axis=0))-2\n",
    "theta_is_t=np.ones(d)\n",
    "\n",
    "list_theta_0=[]\n",
    "for i in progressbar(range(n_iter)):\n",
    "    #print(theta_0_t)\n",
    "    theta_0_t, theta_is_t=iteration_EM_Poisson(theta_0_t,theta_is_t,A_star)\n",
    "    list_theta_0.append(theta_0_t)\n"
   ]
  },
  {
   "cell_type": "code",
   "execution_count": 134,
   "metadata": {},
   "outputs": [
    {
     "data": {
      "image/png": "[encoded data removed]",
      "text/plain": [
       "<Figure size 432x288 with 1 Axes>"
      ]
     },
     "metadata": {
      "needs_background": "light"
     },
     "output_type": "display_data"
    }
   ],
   "source": [
    "plt.plot(list_theta_0[:50])\n",
    "plt.title(\"Convergence de l'algorithme EM \")\n",
    "plt.xlabel(\"nombre d'itérations\")\n",
    "plt.ylabel(\"theta 0 t\")\n",
    "plt.show()"
   ]
  },
  {
   "cell_type": "markdown",
   "metadata": {},
   "source": [
    "## Estimation des paramètres sur données incomplètes via l'algorithme EM\n",
    "il n'est cependant pas possible de prolonger la logique de l'algorithme sur des données incomplètes puisque les équations obtenues pour les espérances conditionnelles $\\mathbb{E}(P_1X|P_2X)$ ne donnent pas de formes suffisamment simples. Cependant on peut s'inspirer du travail sur données complètes pour proposer une méthode d'estimation :\n"
   ]
  },
  {
   "cell_type": "markdown",
   "metadata": {},
   "source": [
    "- On estime l'EMV $\\hat \\theta_0$ sur la base de données des \"bis\" et on calcule les composantes respectives de $\\hat \\theta_{is}$ sur les individus \"monos\"+\"bis\".\n",
    "- Pour chaque ligne i de la matrice incomplète, on calcule $s_i = \\min_{1\\leq i \\leq d_1} x_i^j$ et on calcule pour $0\\leq k \\leq s_i$, les $P(Y_{i}^0=k|X_i,\\theta)$\n",
    "-  On maximise cette dernière quantité en $k$ pour obtenir $Y_i^0max$ et on complète les $x_i^j$, $1\\leq j \\leq d_2$ manquants par $Y_i^0max+\\theta_j$.\n",
    "\n"
   ]
  },
  {
   "cell_type": "code",
   "execution_count": 16,
   "metadata": {},
   "outputs": [],
   "source": [
    "def build_A_star_hat_poisson(P_A_star):\n",
    "    \"\"\"\n",
    "    Complète les valeurs de la matrice incomplète via les estimateurs \n",
    "    obtenus avec les équations EM du modèle de Poisson\n",
    "    \n",
    "    Input:\n",
    "    PA_star : la matrice à compléter\n",
    "    \n",
    "    Output:  \n",
    "    A_star_hat : la matrice complétée\n",
    "    \"\"\"\n",
    "    #Calcul de l'EMV\n",
    "    n_iter=50\n",
    "    \n",
    "    #J'isole les bases monos et les bases \"bis\"\n",
    "    A_star_I1_I3=np.concatenate((PA_star[:n1,:d1],PA_star[(n1+n2):,:d1]))\n",
    "    A_star_I2_I3=PA_star[n1:,d1:]\n",
    "    A_star_I3=PA_star[(n1+n2):,:]\n",
    "    \n",
    "    #Initialisation des paramètres\n",
    "    d=d1+d2\n",
    "    theta_0_t=np.min(np.mean(A_star,axis=0))-2\n",
    "    theta_is_t=np.ones(d)\n",
    "\n",
    "    for i in progressbar(range(n_iter)):\n",
    "        _, theta_is_1=iteration_EM_Poisson(theta_0_t,theta_is_t[:d1],A_star_I1_I3)\n",
    "        _, theta_is_2=iteration_EM_Poisson(theta_0_t,theta_is_t[d1:],A_star_I2_I3)\n",
    "        theta_0_3, _=iteration_EM_Poisson(theta_0_t,theta_is_t,A_star_I3)\n",
    "\n",
    "        theta_is_t=np.concatenate((theta_is_1,theta_is_2))\n",
    "        theta_0_t=(theta_0_3)       \n",
    "    \n",
    "    theta_0=theta_0_t\n",
    "    theta_is=theta_is_t\n",
    "    \n",
    "    #remplissage de la matrice  \n",
    "    A_star_hat=copy.deepcopy(PA_star)\n",
    "    A_star_copy=copy.deepcopy(PA_star)\n",
    "    A_star_copy=np.round(A_star_copy)\n",
    "    A_star_copy[A_star_copy<0]=0\n",
    "    for l,X in enumerate(A_star_copy):\n",
    "            list_log=[]\n",
    "            \n",
    "            if(l<n1):\n",
    "                s_i=np.int(np.min(X[:d1]))\n",
    "                if s_i==0:\n",
    "                    Y0max=0\n",
    "                else:    \n",
    "                    for k in (np.arange(s_i)+1):\n",
    "                        list_log.append(k*np.log(theta_0)-np.log(np.float(math.factorial(k))) + np.sum([-k*np.log(theta_is[i])-np.log(np.float(math.factorial(xij-k))) for i,xij in enumerate(X[:d1])]))\n",
    "                    Y0max = np.argmax(list_log)\n",
    "                A_star_hat[l]=np.concatenate((PA_star[l,:d1],Y0max+theta_is[d1:]))\n",
    "                \n",
    "            if(n1<=l and l<n1+n2):\n",
    "                s_i=np.int(np.min(X[d1:]))\n",
    "                if s_i==0:\n",
    "                    Y0max=0\n",
    "                else:    \n",
    "                    for k in (np.arange(s_i)+1):\n",
    "                        list_log.append(k*np.log(theta_0)-np.log(np.float(math.factorial(k))) + np.sum([-k*np.log(theta_is[i])-np.log(np.float(math.factorial(xij-k))) for i,xij in enumerate(X[d1:])]))\n",
    "                    Y0max = np.argmax(list_log)\n",
    "                A_star_hat[l]=np.concatenate((Y0max+theta_is[:d1],PA_star[l,d1:]))\n",
    "              \n",
    "    return(A_star_hat)"
   ]
  },
  {
   "cell_type": "code",
   "execution_count": 151,
   "metadata": {},
   "outputs": [
    {
     "name": "stderr",
     "output_type": "stream",
     "text": [
      "100% (50 of 50) |########################| Elapsed Time: 0:00:22 Time:  0:00:22\n"
     ]
    },
    {
     "data": {
      "text/plain": [
       "array([[10.        , 10.        , 10.        , 11.58138032, 12.69138032,\n",
       "        13.57888032],\n",
       "       [10.        , 10.        , 16.        , 12.58138032, 13.69138032,\n",
       "        14.57888032],\n",
       "       [ 8.        ,  8.        , 10.        , 10.58138032, 11.69138032,\n",
       "        12.57888032],\n",
       "       ...,\n",
       "       [ 9.        , 10.        , 10.        , 11.        , 17.        ,\n",
       "        15.        ],\n",
       "       [12.        , 10.        , 14.        , 13.        , 12.        ,\n",
       "        22.        ],\n",
       "       [16.        , 16.        , 20.        , 21.        , 22.        ,\n",
       "        23.        ]])"
      ]
     },
     "execution_count": 151,
     "metadata": {},
     "output_type": "execute_result"
    }
   ],
   "source": [
    "d1,d2,n1,n2,n3 =  3,3,200,200,200\n",
    "d=d1+d2\n",
    "n=n1+n2+n3\n",
    "A_star=generate_A_star_poisson(d,n,10)\n",
    "PA_star=build_P_A_star(A_star,n1,n2,d1)\n",
    "\n",
    "build_A_star_hat_poisson(PA_star)"
   ]
  },
  {
   "cell_type": "markdown",
   "metadata": {},
   "source": [
    "# Analyse procrustéenne"
   ]
  },
  {
   "cell_type": "markdown",
   "metadata": {},
   "source": [
    "On reproduit ici la méthode de complétion proposée par médiamétrie, en plusieurs étapes :\n",
    "\n",
    "- On réalise une analyse factorielle sur les $n_1+n_3$ individus présentant des informations sur la base portable et de même pour les $n_2+n_3$ sur tablette. On récupère les 20 premiers axes et on se concentre sur les nuages de points associés au plan factoriel engendré par les 20 premiers axes de l'AXP.\n",
    "\n",
    "- On ne se concentre ensuite plus que sur les individus \"bis\" qui ont alors une représentation dans le nuage de point tablette et une autre dans le nuage de point portable. \n",
    "\n",
    "- On réalise un matching en cherchant une transformation linéaire entre ces deux nuages de point $X$ et $Y$ qui permettra de minimiser la fonction objectif :\n",
    "\n",
    "$$R^*=\\underset{R \\in \\mathcal{O}_n}{argmin\\|XR - Y\\|_F^2}$$\n",
    "\n",
    "La solution à ce problème est donné par la décomposition en valeurs singulières $U^TSV$ de la matrice $X^TY$ et $R^*=U^TV$\n",
    "\n",
    "- On applique enfin cette transformation aux individus non-bis du nuage \"portable\" pour transporter ces derniers dans l'espace du nage \"tablette\", puis on trouve un donneur par plus proche voisin afin de compléter les données manquantes "
   ]
  },
  {
   "cell_type": "markdown",
   "metadata": {},
   "source": [
    "## Construction des nuages de points avec une Kernel PCA"
   ]
  },
  {
   "cell_type": "markdown",
   "metadata": {},
   "source": [
    "En plus de l'analyse en composantes principales classiques on se propose de tester aussi l'analyse en composante principale à noyau :\n",
    "- La Kernel PCA utilise le \"Kernel trick\" pour permettre de transporter les variables de départ x dans un espace de features inconnu $x \\mapsto \\phi(x)$ : \n",
    "- Je prends un kernel Gaussien en paramètrisant par $sigma$ et el que pour deux vecteurs : $$K(x,y)=e^{-\\frac{||x-y||^2}{\\sigma^2}}$$\n",
    "- $\\tilde K = K-\\frac{1}{N}\\mathbf{1}^TK-K\\frac{1}{N}\\mathbf{1}+\\frac{1}{N^2}\\mathbf{1}^TK\\mathbf{1}$ avec le vecteur de taille $N$ rempli de 1.\n",
    "- $y_k(x) = \\phi(x)^Tv_k = \\sum_{i=1}^N a_{ki}\\tilde K(x,x_i)$"
   ]
  },
  {
   "cell_type": "code",
   "execution_count": 68,
   "metadata": {},
   "outputs": [
    {
     "data": {
      "image/png": "[encoded data removed]",
      "text/plain": [
       "<Figure size 432x288 with 1 Axes>"
      ]
     },
     "metadata": {
      "needs_background": "light"
     },
     "output_type": "display_data"
    }
   ],
   "source": [
    "niter,d1,d2,n1,n2,n3,mu,sigma = 300,100,100,1000,1000,500,6,0.009\n",
    "n=n1+n2+n3\n",
    "A_star, PA_star, mu, Sigma = generate_data(d1,d2,n1,n2,n3,mu,sigma)\n",
    "\n",
    "base_I1=np.concatenate((PA_star[:n1,:d1],PA_star[(n1+n2):,:d1]))\n",
    "K=np.exp(-(1/100)*distance.cdist(base_I1,base_I1,metric=\"euclidean\")**2)\n",
    "\n",
    "N=K.shape[0]\n",
    "ones=np.ones((N,N))\n",
    "K_tilde=K-(1/N)*np.matmul(ones,K)-(1/N)*np.matmul(K,ones)+(1/N**2)*np.matmul(np.matmul(ones,K),ones)\n",
    "\n",
    "#20 premiers vecteurs propres(en colonne)\n",
    "a=np.linalg.eig(K_tilde)[1][:,:20]\n",
    "nuage_1=np.matmul(K_tilde,a)\n",
    "\n",
    "plt.scatter(nuage_1[:,1],nuage_1[:,2])\n",
    "plt.show()"
   ]
  },
  {
   "cell_type": "code",
   "execution_count": 17,
   "metadata": {},
   "outputs": [],
   "source": [
    "\n",
    "def PCA(PA_star):\n",
    "    \"\"\"\n",
    "    A partir de PA_star, réalise une analyse en composantes principales \n",
    "    sur les individus présentant des informations complètes \n",
    "    sur les d1 (resp. d2) premières (resp. dernières) variables.\n",
    "    \n",
    "    \n",
    "    Input:\n",
    "    PA_star : la matrice à compléter\n",
    "    \n",
    "    Output:  \n",
    "    coord_I1, coord_I2 : Les 2 nuages de points en dimension 20\n",
    "    \"\"\"\n",
    "    base_I2=PA_star[n1:,d1:]\n",
    "    base_I1=np.concatenate((PA_star[:n1,:d1],PA_star[(n1+n2):,:d1]))\n",
    "\n",
    "    #Extraire la base des I1 et celle des I2 pour les 2 jeux de variables.\n",
    "    pca_I1 = decomposition.PCA()\n",
    "    pca_I1.fit(base_I1)\n",
    "\n",
    "    pca_I2 = decomposition.PCA()\n",
    "    pca_I2.fit(base_I2)\n",
    "    \n",
    "    coord_I1=pca_I1.transform(base_I1)\n",
    "    coord_I2=pca_I2.transform(base_I2)\n",
    "    \n",
    "    return coord_I1,coord_I2\n",
    "    \n",
    "def Kernel_PCA(PA_star,sigma=100):\n",
    "    \"\"\"\n",
    "    A partir de PA_star, réalise une analyse en composantes principales à noyau Gaussien\n",
    "    sur les individus présentant des informations complètes \n",
    "    sur les d1 (resp. d2) premières (resp. dernières) variables.\n",
    "    \n",
    "    \n",
    "    Input:\n",
    "    PA_star : la matrice à compléter\n",
    "    sigma : paramètre de variance du noyau Gaussien\n",
    "    Output:  \n",
    "    coord_I1, coord_I2 : Les 2 nuages de points en dimension 20\n",
    "    \"\"\"\n",
    "\n",
    "\n",
    "    base_I2=PA_star[n1:,d1:]\n",
    "    base_I1=np.concatenate((PA_star[:n1,:d1],PA_star[(n1+n2):,:d1]))\n",
    "    \n",
    "    K_1=np.exp(-(1/sigma)*distance.cdist(base_I1,base_I1,metric=\"euclidean\")**2)\n",
    "    N=K_1.shape[0]\n",
    "    ones=np.ones((N,N))\n",
    "    K_1_tilde=K_1-(1/N)*np.matmul(ones,K_1)-(1/N)*np.matmul(K_1,ones)+(1/N**2)*np.matmul(np.matmul(ones,K_1),ones)\n",
    "\n",
    "    #20 premiers vecteurs propres(en colonne)\n",
    "    a_1=np.linalg.eig(K_1_tilde)[1][:,:20]\n",
    "    coord_I1=np.matmul(K_1_tilde,a_1)\n",
    "    \n",
    "    K_2=np.exp(-(1/sigma)*distance.cdist(base_I2,base_I2,metric=\"euclidean\")**2)\n",
    "    N=K_2.shape[0]\n",
    "    ones=np.ones((N,N))\n",
    "    K_2_tilde=K_2-(1/N)*np.matmul(ones,K_2)-(1/N)*np.matmul(K_2,ones)+(1/N**2)*np.matmul(np.matmul(ones,K_2),ones)\n",
    "\n",
    "    #20 premiers vecteurs propres(en colonne)\n",
    "    a_2=np.linalg.eig(K_2_tilde)[1][:,:20]\n",
    "    coord_I2=np.matmul(K_2_tilde,a_2)\n",
    "    \n",
    "    return coord_I1,coord_I2\n",
    "\n",
    "\n",
    "def build_A_star_hat_procruste(PA_star, kernel=False ,sigma=100):\n",
    "    \"\"\"\n",
    "    Complète les valeurs de la matrice incomplète via lma méthode de complétion par analyse procrustéenne\n",
    "    \n",
    "    Input:\n",
    "    PA_star : la matrice à compléter\n",
    "    kernel : TRUE si on construit les nuages de points à l'aide de la kernel PCA\n",
    "    sigma : paramètre de variance du noyau gaussien utilisé\n",
    "    \n",
    "    Output:  \n",
    "    A_star_hat : la matrice complétée\n",
    "    \"\"\"\n",
    "    if kernel:\n",
    "        coord_I1,coord_I2=Kernel_PCA(PA_star,sigma)\n",
    "    else:\n",
    "        coord_I1,coord_I2=PCA(PA_star)\n",
    "    \n",
    "    #ok je fais le matching que sur les bi\n",
    "    nuage_1=np.matrix(coord_I1[n1:,:20])\n",
    "    nuage_2=np.matrix(coord_I2[n2:,:20])\n",
    "    \n",
    "    # On récupère la matrice orthogonale optimale entre les 2 nuages de points\n",
    "    U, S, V = np.linalg.svd(np.dot(nuage_1.T, nuage_2))\n",
    "    R=np.matmul(U.T,V)\n",
    "\n",
    "    #On transporte les individus non bis de la première base dans l'espace de la deuxième base\n",
    "    coord_1_transform=np.matmul(coord_I1[:n1,:20],R)\n",
    "\n",
    "    #Calcul de distance  et de rang entre le nuage transformé et le nuage d'arrivée\n",
    "    dist=distance_matrix(coord_1_transform, coord_I1[:n2,:20])\n",
    "    rang_1=np.argmax(dist,axis=1)\n",
    "    rang_2=np.argmax(dist,axis=0)\n",
    "\n",
    "    #Il n'y a plus qu'à compléter P_A Star avec les valeurs des donneurs en question\n",
    "    A_star_hat=copy.deepcopy(PA_star)\n",
    "    for i,j in enumerate(rang_1):\n",
    "        A_star_hat[i,d1:]=PA_star[n1+j,d1:] # on cherche dans la deuxième partie de la matrice\n",
    "    for i,j in enumerate(rang_2):\n",
    "        A_star_hat[n1+i,:d1]=PA_star[j,:d1] # on cherche dans la deuxième partie de la matrice\n",
    "    \n",
    "    return A_star_hat"
   ]
  },
  {
   "cell_type": "markdown",
   "metadata": {},
   "source": [
    "### Test de  la méthode de complétion par analyse procrustéenne"
   ]
  },
  {
   "cell_type": "code",
   "execution_count": 81,
   "metadata": {},
   "outputs": [
    {
     "name": "stdout",
     "output_type": "stream",
     "text": [
      "[[5.67327017 7.15098992 5.72746008 5.43345709]\n",
      " [5.79724664 6.25062168 5.86622506 7.90165533]\n",
      " [7.1323805  7.88895507 4.09532892 7.19547843]\n",
      " [7.04361549 6.34707459 4.09532892 7.19547843]\n",
      " [7.07607758 4.80583002 5.86622506 7.90165533]\n",
      " [5.68070391 7.12838326 5.72746008 5.43345709]\n",
      " [6.94382759 5.19765586 5.86622506 7.90165533]\n",
      " [4.2233033  6.49082176 5.72746008 5.43345709]\n",
      " [7.28519813 6.33648404 4.09532892 7.19547843]\n",
      " [5.3462244  6.72562955 5.72746008 5.43345709]\n",
      " [7.07607758 4.80583002 6.02692695 5.93060781]\n",
      " [4.2233033  6.49082176 4.82701024 5.5142348 ]\n",
      " [7.1323805  7.88895507 4.09532892 7.19547843]\n",
      " [7.1323805  7.88895507 6.46025742 5.55670841]\n",
      " [4.2233033  6.49082176 5.72746008 5.43345709]\n",
      " [7.07607758 4.80583002 6.00052627 6.03158629]\n",
      " [7.1323805  7.88895507 6.9270132  5.21524207]\n",
      " [7.07607758 4.80583002 5.86622506 7.90165533]\n",
      " [7.1323805  7.88895507 5.99639497 3.90109962]\n",
      " [7.07607758 4.80583002 6.03467184 6.41788122]\n",
      " [5.49674711 7.1288473  5.51093662 9.5082986 ]\n",
      " [4.44968513 4.99226896 5.63859764 4.60118943]]\n"
     ]
    }
   ],
   "source": [
    "niter,d1,d2,n1,n2,n3,mu,sigma = 300,2,2,10,10,2,6,0.009\n",
    "n=n1+n2+n3\n",
    "A_star, PA_star, mu, Sigma = generate_data(d1,d2,n1,n2,n3,mu,sigma)\n",
    "\n",
    "A_star_hat_procruste=build_A_star_hat_procruste(PA_star,kernel=True)\n",
    "print(A_star_hat_procruste)"
   ]
  },
  {
   "cell_type": "markdown",
   "metadata": {},
   "source": [
    "# Comparaison des méthodes"
   ]
  },
  {
   "cell_type": "markdown",
   "metadata": {},
   "source": [
    "## Initialisation des paramètres"
   ]
  },
  {
   "cell_type": "markdown",
   "metadata": {},
   "source": [
    "On fixe ici une bonne fois pour toutes les paramètres"
   ]
  },
  {
   "cell_type": "code",
   "execution_count": 66,
   "metadata": {},
   "outputs": [],
   "source": [
    "niter,d1,d2,n1,n2,n3,mu,sigma = 300,100,100,1000,1000,500,6,0.009\n",
    "n=n1+n2+n3\n",
    "A_star, PA_star, mu, Sigma = generate_data(d1,d2,n1,n2,n3,mu,sigma)"
   ]
  },
  {
   "cell_type": "markdown",
   "metadata": {},
   "source": [
    "## Comparaison des erreurs sur données gaussiennes"
   ]
  },
  {
   "cell_type": "markdown",
   "metadata": {},
   "source": [
    "Ici on construit les différentes complétion possible de $PA^*$ suivant les différentes méthodes pour un même jeu de paramètres et on regarde la moyenne de l'erreur sur plusieurs matrice $A^*$ générées avec les entrées $PA^*$ fixées, ce qui nous donne une pproximation de $\\mathbb{E}[||A^*-\\hat A^*||^2]$\n",
    " "
   ]
  },
  {
   "cell_type": "markdown",
   "metadata": {},
   "source": [
    "### Tuning de la kernel PCA"
   ]
  },
  {
   "cell_type": "markdown",
   "metadata": {},
   "source": [
    "Ici, je tune le paaramètre d'échelle du noyau gaussien utilisé dans l'ACP par noyau"
   ]
  },
  {
   "cell_type": "code",
   "execution_count": null,
   "metadata": {},
   "outputs": [
    {
     "name": "stderr",
     "output_type": "stream",
     "text": [
      " 28% (58 of 200) |######                 | Elapsed Time: 0:02:07 ETA:   0:05:01"
     ]
    }
   ],
   "source": [
    "ngen=200\n",
    "list_sigma=np.array([5,7,10,30,50,70,100,150,200])\n",
    "list_A_star_hat=[build_A_star_hat_procruste(PA_star,kernel=True,sigma=sig) for sig in list_sigma]\n",
    "mat_err=np.zeros((ngen,len(list_A_star_hat)))\n",
    "\n",
    "for g in progressbar(range(ngen)):\n",
    "    Ag=generate_A_star_fixed_PA(PA_star,Sigma,mu,n1,n2,d1)\n",
    "    for i,est in enumerate(list_A_star_hat):\n",
    "        mat_err[g,i]=(np.mean((Ag[:n1]-est[:n1])**2))\n",
    "\n",
    "list_est=np.mean(mat_err,axis=0)\n",
    "#for i,lab in enumerate(list_sigma):\n",
    " #   print(\"sigma =\",lab,\" : \",round(list_est[i],5))\n",
    "\n",
    "plt.plot(list_sigma,list_est)\n",
    "plt.title(\"Erreur en fonction du paramètre d'échelle du noyau gaussien\")\n",
    "plt.xlabel(\"valeur de sigma\")\n",
    "plt.ylabel(\"erreur moyenne\")\n",
    "plt.show()\n",
    "\n",
    "#on retiendra ce sigma\n",
    "sigma_opt = list_sigma[np.argmin(list_est)]\n",
    "\n"
   ]
  },
  {
   "cell_type": "markdown",
   "metadata": {},
   "source": [
    "### Comparaison de l'ensemble des méthodes"
   ]
  },
  {
   "cell_type": "code",
   "execution_count": 71,
   "metadata": {},
   "outputs": [
    {
     "name": "stdout",
     "output_type": "stream",
     "text": [
      "Calcul des estimateurs :\n"
     ]
    },
    {
     "name": "stderr",
     "output_type": "stream",
     "text": [
      " 76% (38 of 50) |##################      | Elapsed Time: 0:09:20 ETA:   0:01:32"
     ]
    },
    {
     "ename": "KeyboardInterrupt",
     "evalue": "",
     "output_type": "error",
     "traceback": [
      "\u001b[0;31m---------------------------------------------------------------------------\u001b[0m",
      "\u001b[0;31mKeyboardInterrupt\u001b[0m                         Traceback (most recent call last)",
      "\u001b[0;32m<ipython-input-71-7f41ed9bce9a>\u001b[0m in \u001b[0;36m<module>\u001b[0;34m\u001b[0m\n\u001b[1;32m      8\u001b[0m \u001b[0mA_star_hat_EMV\u001b[0m\u001b[0;34m=\u001b[0m\u001b[0mbuild_A_star_hat_EMV\u001b[0m\u001b[0;34m(\u001b[0m\u001b[0mPA_star\u001b[0m\u001b[0;34m)\u001b[0m\u001b[0;34m\u001b[0m\u001b[0;34m\u001b[0m\u001b[0m\n\u001b[1;32m      9\u001b[0m \u001b[0mA_star_hat_EM\u001b[0m\u001b[0;34m=\u001b[0m\u001b[0mbuild_A_star_hat_EM\u001b[0m\u001b[0;34m(\u001b[0m\u001b[0mPA_star\u001b[0m\u001b[0;34m)\u001b[0m\u001b[0;34m\u001b[0m\u001b[0;34m\u001b[0m\u001b[0m\n\u001b[0;32m---> 10\u001b[0;31m \u001b[0mA_star_hat_Poisson\u001b[0m\u001b[0;34m=\u001b[0m\u001b[0mbuild_A_star_hat_poisson\u001b[0m\u001b[0;34m(\u001b[0m\u001b[0mPA_star\u001b[0m\u001b[0;34m)\u001b[0m\u001b[0;34m\u001b[0m\u001b[0;34m\u001b[0m\u001b[0m\n\u001b[0m\u001b[1;32m     11\u001b[0m \u001b[0mA_star_hat_procruste\u001b[0m\u001b[0;34m=\u001b[0m\u001b[0mbuild_A_star_hat_procruste\u001b[0m\u001b[0;34m(\u001b[0m\u001b[0mPA_star\u001b[0m\u001b[0;34m)\u001b[0m\u001b[0;34m\u001b[0m\u001b[0;34m\u001b[0m\u001b[0m\n\u001b[1;32m     12\u001b[0m \u001b[0mA_star_hat_procruste_kernel\u001b[0m\u001b[0;34m=\u001b[0m\u001b[0mbuild_A_star_hat_procruste\u001b[0m\u001b[0;34m(\u001b[0m\u001b[0mPA_star\u001b[0m\u001b[0;34m,\u001b[0m\u001b[0mkernel\u001b[0m\u001b[0;34m=\u001b[0m\u001b[0;32mTrue\u001b[0m\u001b[0;34m,\u001b[0m\u001b[0msigma\u001b[0m\u001b[0;34m=\u001b[0m\u001b[0msigma_opt\u001b[0m\u001b[0;34m)\u001b[0m\u001b[0;34m\u001b[0m\u001b[0;34m\u001b[0m\u001b[0m\n",
      "\u001b[0;32m<ipython-input-16-b13f0fe27f3b>\u001b[0m in \u001b[0;36mbuild_A_star_hat_poisson\u001b[0;34m(P_A_star)\u001b[0m\n\u001b[1;32m     25\u001b[0m     \u001b[0;32mfor\u001b[0m \u001b[0mi\u001b[0m \u001b[0;32min\u001b[0m \u001b[0mprogressbar\u001b[0m\u001b[0;34m(\u001b[0m\u001b[0mrange\u001b[0m\u001b[0;34m(\u001b[0m\u001b[0mn_iter\u001b[0m\u001b[0;34m)\u001b[0m\u001b[0;34m)\u001b[0m\u001b[0;34m:\u001b[0m\u001b[0;34m\u001b[0m\u001b[0;34m\u001b[0m\u001b[0m\n\u001b[1;32m     26\u001b[0m         \u001b[0m_\u001b[0m\u001b[0;34m,\u001b[0m \u001b[0mtheta_is_1\u001b[0m\u001b[0;34m=\u001b[0m\u001b[0miteration_EM_Poisson\u001b[0m\u001b[0;34m(\u001b[0m\u001b[0mtheta_0_t\u001b[0m\u001b[0;34m,\u001b[0m\u001b[0mtheta_is_t\u001b[0m\u001b[0;34m[\u001b[0m\u001b[0;34m:\u001b[0m\u001b[0md1\u001b[0m\u001b[0;34m]\u001b[0m\u001b[0;34m,\u001b[0m\u001b[0mA_star_I1_I3\u001b[0m\u001b[0;34m)\u001b[0m\u001b[0;34m\u001b[0m\u001b[0;34m\u001b[0m\u001b[0m\n\u001b[0;32m---> 27\u001b[0;31m         \u001b[0m_\u001b[0m\u001b[0;34m,\u001b[0m \u001b[0mtheta_is_2\u001b[0m\u001b[0;34m=\u001b[0m\u001b[0miteration_EM_Poisson\u001b[0m\u001b[0;34m(\u001b[0m\u001b[0mtheta_0_t\u001b[0m\u001b[0;34m,\u001b[0m\u001b[0mtheta_is_t\u001b[0m\u001b[0;34m[\u001b[0m\u001b[0md1\u001b[0m\u001b[0;34m:\u001b[0m\u001b[0;34m]\u001b[0m\u001b[0;34m,\u001b[0m\u001b[0mA_star_I2_I3\u001b[0m\u001b[0;34m)\u001b[0m\u001b[0;34m\u001b[0m\u001b[0;34m\u001b[0m\u001b[0m\n\u001b[0m\u001b[1;32m     28\u001b[0m         \u001b[0mtheta_0_3\u001b[0m\u001b[0;34m,\u001b[0m \u001b[0m_\u001b[0m\u001b[0;34m=\u001b[0m\u001b[0miteration_EM_Poisson\u001b[0m\u001b[0;34m(\u001b[0m\u001b[0mtheta_0_t\u001b[0m\u001b[0;34m,\u001b[0m\u001b[0mtheta_is_t\u001b[0m\u001b[0;34m,\u001b[0m\u001b[0mA_star_I3\u001b[0m\u001b[0;34m)\u001b[0m\u001b[0;34m\u001b[0m\u001b[0;34m\u001b[0m\u001b[0m\n\u001b[1;32m     29\u001b[0m \u001b[0;34m\u001b[0m\u001b[0m\n",
      "\u001b[0;32m<ipython-input-15-43ffd0b4fffa>\u001b[0m in \u001b[0;36miteration_EM_Poisson\u001b[0;34m(theta_0_t, theta_is_t, A_star)\u001b[0m\n\u001b[1;32m     47\u001b[0m \u001b[0;34m\u001b[0m\u001b[0m\n\u001b[1;32m     48\u001b[0m             \u001b[0;32mfor\u001b[0m \u001b[0mk\u001b[0m \u001b[0;32min\u001b[0m \u001b[0;34m(\u001b[0m\u001b[0mnp\u001b[0m\u001b[0;34m.\u001b[0m\u001b[0marange\u001b[0m\u001b[0;34m(\u001b[0m\u001b[0ms_i\u001b[0m\u001b[0;34m)\u001b[0m\u001b[0;34m+\u001b[0m\u001b[0;36m1\u001b[0m\u001b[0;34m)\u001b[0m\u001b[0;34m:\u001b[0m\u001b[0;34m\u001b[0m\u001b[0;34m\u001b[0m\u001b[0m\n\u001b[0;32m---> 49\u001b[0;31m                 \u001b[0mlist_log\u001b[0m\u001b[0;34m.\u001b[0m\u001b[0mappend\u001b[0m\u001b[0;34m(\u001b[0m\u001b[0mk\u001b[0m\u001b[0;34m*\u001b[0m\u001b[0mnp\u001b[0m\u001b[0;34m.\u001b[0m\u001b[0mlog\u001b[0m\u001b[0;34m(\u001b[0m\u001b[0mtheta_0_t\u001b[0m\u001b[0;34m)\u001b[0m\u001b[0;34m-\u001b[0m\u001b[0mnp\u001b[0m\u001b[0;34m.\u001b[0m\u001b[0mlog\u001b[0m\u001b[0;34m(\u001b[0m\u001b[0mnp\u001b[0m\u001b[0;34m.\u001b[0m\u001b[0mfloat\u001b[0m\u001b[0;34m(\u001b[0m\u001b[0mmath\u001b[0m\u001b[0;34m.\u001b[0m\u001b[0mfactorial\u001b[0m\u001b[0;34m(\u001b[0m\u001b[0mk\u001b[0m\u001b[0;34m)\u001b[0m\u001b[0;34m)\u001b[0m\u001b[0;34m)\u001b[0m \u001b[0;34m+\u001b[0m \u001b[0mnp\u001b[0m\u001b[0;34m.\u001b[0m\u001b[0msum\u001b[0m\u001b[0;34m(\u001b[0m\u001b[0;34m[\u001b[0m\u001b[0;34m-\u001b[0m\u001b[0mk\u001b[0m\u001b[0;34m*\u001b[0m\u001b[0mnp\u001b[0m\u001b[0;34m.\u001b[0m\u001b[0mlog\u001b[0m\u001b[0;34m(\u001b[0m\u001b[0mtheta_is_t\u001b[0m\u001b[0;34m[\u001b[0m\u001b[0mi\u001b[0m\u001b[0;34m]\u001b[0m\u001b[0;34m)\u001b[0m\u001b[0;34m-\u001b[0m\u001b[0mnp\u001b[0m\u001b[0;34m.\u001b[0m\u001b[0mlog\u001b[0m\u001b[0;34m(\u001b[0m\u001b[0mnp\u001b[0m\u001b[0;34m.\u001b[0m\u001b[0mfloat\u001b[0m\u001b[0;34m(\u001b[0m\u001b[0mmath\u001b[0m\u001b[0;34m.\u001b[0m\u001b[0mfactorial\u001b[0m\u001b[0;34m(\u001b[0m\u001b[0mxij\u001b[0m\u001b[0;34m-\u001b[0m\u001b[0mk\u001b[0m\u001b[0;34m)\u001b[0m\u001b[0;34m)\u001b[0m\u001b[0;34m)\u001b[0m \u001b[0;32mfor\u001b[0m \u001b[0mi\u001b[0m\u001b[0;34m,\u001b[0m\u001b[0mxij\u001b[0m \u001b[0;32min\u001b[0m \u001b[0menumerate\u001b[0m\u001b[0;34m(\u001b[0m\u001b[0mX\u001b[0m\u001b[0;34m)\u001b[0m\u001b[0;34m]\u001b[0m\u001b[0;34m)\u001b[0m\u001b[0;34m)\u001b[0m\u001b[0;34m\u001b[0m\u001b[0;34m\u001b[0m\u001b[0m\n\u001b[0m\u001b[1;32m     50\u001b[0m \u001b[0;34m\u001b[0m\u001b[0m\n\u001b[1;32m     51\u001b[0m             \u001b[0;31m#ok j'identifie le max et je normalise pour éviter l'overflow\u001b[0m\u001b[0;34m\u001b[0m\u001b[0;34m\u001b[0m\u001b[0;34m\u001b[0m\u001b[0m\n",
      "\u001b[0;32m<ipython-input-15-43ffd0b4fffa>\u001b[0m in \u001b[0;36m<listcomp>\u001b[0;34m(.0)\u001b[0m\n\u001b[1;32m     47\u001b[0m \u001b[0;34m\u001b[0m\u001b[0m\n\u001b[1;32m     48\u001b[0m             \u001b[0;32mfor\u001b[0m \u001b[0mk\u001b[0m \u001b[0;32min\u001b[0m \u001b[0;34m(\u001b[0m\u001b[0mnp\u001b[0m\u001b[0;34m.\u001b[0m\u001b[0marange\u001b[0m\u001b[0;34m(\u001b[0m\u001b[0ms_i\u001b[0m\u001b[0;34m)\u001b[0m\u001b[0;34m+\u001b[0m\u001b[0;36m1\u001b[0m\u001b[0;34m)\u001b[0m\u001b[0;34m:\u001b[0m\u001b[0;34m\u001b[0m\u001b[0;34m\u001b[0m\u001b[0m\n\u001b[0;32m---> 49\u001b[0;31m                 \u001b[0mlist_log\u001b[0m\u001b[0;34m.\u001b[0m\u001b[0mappend\u001b[0m\u001b[0;34m(\u001b[0m\u001b[0mk\u001b[0m\u001b[0;34m*\u001b[0m\u001b[0mnp\u001b[0m\u001b[0;34m.\u001b[0m\u001b[0mlog\u001b[0m\u001b[0;34m(\u001b[0m\u001b[0mtheta_0_t\u001b[0m\u001b[0;34m)\u001b[0m\u001b[0;34m-\u001b[0m\u001b[0mnp\u001b[0m\u001b[0;34m.\u001b[0m\u001b[0mlog\u001b[0m\u001b[0;34m(\u001b[0m\u001b[0mnp\u001b[0m\u001b[0;34m.\u001b[0m\u001b[0mfloat\u001b[0m\u001b[0;34m(\u001b[0m\u001b[0mmath\u001b[0m\u001b[0;34m.\u001b[0m\u001b[0mfactorial\u001b[0m\u001b[0;34m(\u001b[0m\u001b[0mk\u001b[0m\u001b[0;34m)\u001b[0m\u001b[0;34m)\u001b[0m\u001b[0;34m)\u001b[0m \u001b[0;34m+\u001b[0m \u001b[0mnp\u001b[0m\u001b[0;34m.\u001b[0m\u001b[0msum\u001b[0m\u001b[0;34m(\u001b[0m\u001b[0;34m[\u001b[0m\u001b[0;34m-\u001b[0m\u001b[0mk\u001b[0m\u001b[0;34m*\u001b[0m\u001b[0mnp\u001b[0m\u001b[0;34m.\u001b[0m\u001b[0mlog\u001b[0m\u001b[0;34m(\u001b[0m\u001b[0mtheta_is_t\u001b[0m\u001b[0;34m[\u001b[0m\u001b[0mi\u001b[0m\u001b[0;34m]\u001b[0m\u001b[0;34m)\u001b[0m\u001b[0;34m-\u001b[0m\u001b[0mnp\u001b[0m\u001b[0;34m.\u001b[0m\u001b[0mlog\u001b[0m\u001b[0;34m(\u001b[0m\u001b[0mnp\u001b[0m\u001b[0;34m.\u001b[0m\u001b[0mfloat\u001b[0m\u001b[0;34m(\u001b[0m\u001b[0mmath\u001b[0m\u001b[0;34m.\u001b[0m\u001b[0mfactorial\u001b[0m\u001b[0;34m(\u001b[0m\u001b[0mxij\u001b[0m\u001b[0;34m-\u001b[0m\u001b[0mk\u001b[0m\u001b[0;34m)\u001b[0m\u001b[0;34m)\u001b[0m\u001b[0;34m)\u001b[0m \u001b[0;32mfor\u001b[0m \u001b[0mi\u001b[0m\u001b[0;34m,\u001b[0m\u001b[0mxij\u001b[0m \u001b[0;32min\u001b[0m \u001b[0menumerate\u001b[0m\u001b[0;34m(\u001b[0m\u001b[0mX\u001b[0m\u001b[0;34m)\u001b[0m\u001b[0;34m]\u001b[0m\u001b[0;34m)\u001b[0m\u001b[0;34m)\u001b[0m\u001b[0;34m\u001b[0m\u001b[0;34m\u001b[0m\u001b[0m\n\u001b[0m\u001b[1;32m     50\u001b[0m \u001b[0;34m\u001b[0m\u001b[0m\n\u001b[1;32m     51\u001b[0m             \u001b[0;31m#ok j'identifie le max et je normalise pour éviter l'overflow\u001b[0m\u001b[0;34m\u001b[0m\u001b[0;34m\u001b[0m\u001b[0;34m\u001b[0m\u001b[0m\n",
      "\u001b[0;31mKeyboardInterrupt\u001b[0m: "
     ]
    }
   ],
   "source": [
    "ngen=200\n",
    "\n",
    "mu1_hat,mu2_hat,Sigma11_hat,Sigma22_hat,Sigma12_hat=empirical_estimates(n1,n2,n3,d1,d2,PA_star)\n",
    "\n",
    "print(\"Calcul des estimateurs :\")\n",
    "\n",
    "A_star_hat_plug_in=build_A_star_hat(mu1_hat,mu2_hat,Sigma11_hat,Sigma22_hat,Sigma12_hat,n1,n2,n3,d1,d2,PA_star)\n",
    "A_star_hat_EMV=build_A_star_hat_EMV(PA_star)\n",
    "A_star_hat_EM=build_A_star_hat_EM(PA_star)\n",
    "A_star_hat_Poisson=build_A_star_hat_poisson(PA_star)\n",
    "A_star_hat_procruste=build_A_star_hat_procruste(PA_star)\n",
    "A_star_hat_procruste_kernel=build_A_star_hat_procruste(PA_star,kernel=True,sigma=sigma_opt)\n",
    "\n",
    "list_A_star_hat=np.array([A_star_hat_plug_in,A_star_hat_EMV,A_star_hat_EM,A_star_hat_Poisson,A_star_hat_procruste,A_star_hat_procruste_kernel])\n",
    "mat_err=np.zeros((200,len(list_A_star_hat)))\n",
    "\n",
    "for g in progressbar(range(ngen)):\n",
    "    Ag=generate_A_star_fixed_PA(PA_star,Sigma,mu,n1,n2,d1)\n",
    "    for i,est in enumerate(list_A_star_hat):\n",
    "        mat_err[g,i]=(np.mean((Ag[:n1]-est[:n1])**2))\n",
    "    \n"
   ]
  },
  {
   "cell_type": "code",
   "execution_count": null,
   "metadata": {},
   "outputs": [],
   "source": [
    "\n",
    "list_lab_est=[\"plug-in\",\"EMV\",\"EMV EM\",\"Poisson\",\"procruste\",\"kernel procruste\"]\n",
    "list_est=np.mean(mat_err,axis=0)\n",
    "for i,lab in enumerate(list_lab_est):\n",
    "    print(lab,\" : \",round(list_est[i],5))\n"
   ]
  },
  {
   "cell_type": "markdown",
   "metadata": {},
   "source": [
    "## Comparaison des erreurs sur données générées sur un modèle de Poisson multinomial corrélé"
   ]
  },
  {
   "cell_type": "markdown",
   "metadata": {},
   "source": [
    "On veut générer des données suivant le modèle de poisson multinomial à corrélation. Chaquer ligne de $A^*$ est générée par le processus suivant.\n",
    "\n",
    "\\begin{equation*}\n",
    "    \\begin{split}\n",
    "        X_i &\\sim \\mathcal{P}(\\exp(\\alpha_i)) \\\\\n",
    "        (\\alpha_1,..,\\alpha_d) &\\sim \\mathcal{N}(0,\\Lambda)\n",
    "    \\end{split}\n",
    "\\end{equation*}\n",
    "\n",
    "Avec $\\Lambda$ une matrice de variance covariance donnée, avec ce modèle, les corrélations entre composantes vérifient :\n",
    "\n",
    "$$Cov(X_k,X_j)=\\exp(\\frac{\\lambda_{k,k}+\\lambda_{j,j}}{2})(\\exp(\\lambda_{k,j})-1)$$\n",
    " \n",
    "On peut donc générer des données de comptage tout en imposant des corrélations négatives, ce qui n'est pas le cas pour le modèle de Poisson multinomial\n",
    "\n",
    "Ici on ne peut pas fixer $PA^*$ et générer des matrices puisque qu'il n'y a pas de formule explicite pour le conditionnement comme ce qu'on pouvait avoir dans le cadre gaussien. On va donc de voir se contenter d'une approximation de la quantité $\\mathbb{E}(||A^*-\\hat A^*||^2)$. Pour ce faire on génère plusieurs fois la matrice $A^*$, on construit à partir du masque $PA^*$ et on calculme l'erreur obtenue à chaque itération. On ne teste pas l'algorithme EM basé sur le modèle de Poisson multinomial puisque le temps de calcul à chaque itération est prohibitif."
   ]
  },
  {
   "cell_type": "code",
   "execution_count": 169,
   "metadata": {},
   "outputs": [],
   "source": [
    "def generate_A_star_Poisson(Lambda):\n",
    "    \n",
    "    A_star=np.zeros([n,(d1+d2)])\n",
    "    vec_alpha=np.random.multivariate_normal(np.zeros(d1+d2),Lambda)\n",
    "    \n",
    "    for i,alpha_i in enumerate(vec_alpha):\n",
    "        A_star[:,i]=np.random.poisson(np.exp(alpha_i),n)\n",
    "\n",
    "    return(A_star)"
   ]
  },
  {
   "cell_type": "code",
   "execution_count": 238,
   "metadata": {},
   "outputs": [
    {
     "data": {
      "text/plain": [
       "array([[0., 0., 0., ..., 0., 0., 0.],\n",
       "       [0., 0., 0., ..., 0., 0., 0.],\n",
       "       [0., 0., 0., ..., 0., 0., 0.],\n",
       "       ...,\n",
       "       [0., 0., 0., ..., 1., 1., 1.],\n",
       "       [0., 0., 0., ..., 3., 2., 3.],\n",
       "       [2., 1., 0., ..., 0., 0., 1.]])"
      ]
     },
     "execution_count": 238,
     "metadata": {},
     "output_type": "execute_result"
    }
   ],
   "source": [
    "niter,d1,d2,n1,n2,n3,mu,sigma = 300,100,100,1000,1000,500,6,0.009\n",
    "n=n1+n2+n3\n",
    "Lambda=np.block([\n",
    "        [np.eye(d1),sigma*np.ones((d1,d2))],\n",
    "        [sigma*np.ones((d2,d1)), np.eye(d2)]\n",
    "        ])\n",
    "A_star=generate_A_star_Poisson(Lambda)\n",
    "build_P_A_star(A_star,n1,n2,d1)\n"
   ]
  },
  {
   "cell_type": "code",
   "execution_count": 239,
   "metadata": {},
   "outputs": [
    {
     "name": "stderr",
     "output_type": "stream",
     "text": [
      "100% (200 of 200) |######################| Elapsed Time: 2:11:20 Time:  2:11:20\n"
     ]
    }
   ],
   "source": [
    "%%capture output\n",
    "ngen=200\n",
    "mat_err=np.zeros((ngen,5))\n",
    "for g in progressbar(range(ngen)):\n",
    "    \n",
    "    Ag=generate_A_star_Poisson(Lambda)\n",
    "    PA_star=build_P_A_star(Ag,n1,n2,d1)\n",
    "    mu1_hat,mu2_hat,Sigma11_hat,Sigma22_hat,Sigma12_hat=empirical_estimates(n1,n2,n3,d1,d2,PA_star)\n",
    "\n",
    "    A_star_hat_plug_in=build_A_star_hat(mu1_hat,mu2_hat,Sigma11_hat,Sigma22_hat,Sigma12_hat,n1,n2,n3,d1,d2,PA_star)\n",
    "    A_star_hat_EMV=build_A_star_hat_EMV(PA_star)\n",
    "    A_star_hat_EM=build_A_star_hat_EM(PA_star)\n",
    "    A_star_hat_procruste=build_A_star_hat_procruste(PA_star)\n",
    "    A_star_hat_procruste_kernel=build_A_star_hat_procruste(PA_star,kernel=True)\n",
    "    list_A_star_hat=np.array([A_star_hat_plug_in,A_star_hat_EMV,A_star_hat_EM,A_star_hat_procruste,A_star_hat_procruste_kernel])\n",
    "\n",
    "    for i,est in enumerate(list_A_star_hat):\n",
    "        mat_err[g,i]=(np.mean((Ag[:n1]-est[:n1])**2))\n",
    "    \n"
   ]
  },
  {
   "cell_type": "code",
   "execution_count": 240,
   "metadata": {},
   "outputs": [
    {
     "name": "stdout",
     "output_type": "stream",
     "text": [
      "plug-in  :  0.98229\n",
      "EMV  :  1.65541\n",
      "EMV EM  :  1.65391\n",
      "procruste  :  1.65561\n",
      "kernel procruste  :  1.65425\n"
     ]
    }
   ],
   "source": [
    "list_lab_est=[\"plug-in\",\"EMV\",\"EMV EM\",\"procruste\",\"kernel procruste\"]\n",
    "list_est=np.mean(mat_err,axis=0)\n",
    "for i,lab in enumerate(list_lab_est):\n",
    "    print(lab,\" : \",round(list_est[i],5))"
   ]
  },
  {
   "cell_type": "markdown",
   "metadata": {},
   "source": [
    "### A comparer avec générations gaussiennes sans entrées fixées pour comparaison"
   ]
  },
  {
   "cell_type": "code",
   "execution_count": 49,
   "metadata": {},
   "outputs": [],
   "source": [
    "niter,d1,d2,n1,n2,n3,mu,sigma = 300,100,100,1000,1000,500,6,0.009\n",
    "n=n1+n2+n3"
   ]
  },
  {
   "cell_type": "code",
   "execution_count": 50,
   "metadata": {},
   "outputs": [
    {
     "name": "stderr",
     "output_type": "stream",
     "text": [
      "100% (20 of 20) |########################| Elapsed Time: 0:02:52 Time:  0:02:52\n"
     ]
    }
   ],
   "source": [
    "%%capture output\n",
    "ngen=20\n",
    "mat_err=np.zeros((ngen,5))\n",
    "for g in progressbar(range(ngen)):\n",
    "    \n",
    "   \n",
    "    Ag, PA_star, mu, Sigma = generate_data(d1,d2,n1,n2,n3,mu,sigma)\n",
    "    mu1_hat,mu2_hat,Sigma11_hat,Sigma22_hat,Sigma12_hat=empirical_estimates(n1,n2,n3,d1,d2,PA_star)\n",
    "\n",
    "    A_star_hat_plug_in=build_A_star_hat(mu1_hat,mu2_hat,Sigma11_hat,Sigma22_hat,Sigma12_hat,n1,n2,n3,d1,d2,PA_star)\n",
    "    A_star_hat_EMV=build_A_star_hat_EMV(PA_star)\n",
    "    A_star_hat_EM=build_A_star_hat_EM(PA_star)\n",
    "    A_star_hat_procruste=build_A_star_hat_procruste(PA_star)\n",
    "    A_star_hat_procruste_kernel=build_A_star_hat_procruste(PA_star,kernel=True)\n",
    "    list_A_star_hat=np.array([A_star_hat_plug_in,A_star_hat_EMV,A_star_hat_EM,A_star_hat_procruste,A_star_hat_procruste_kernel])\n",
    "\n",
    "    for i,est in enumerate(list_A_star_hat):\n",
    "        mat_err[g,i]=(np.mean((Ag[:n1]-est[:n1])**2))\n",
    "    "
   ]
  },
  {
   "cell_type": "code",
   "execution_count": 52,
   "metadata": {},
   "outputs": [
    {
     "name": "stdout",
     "output_type": "stream",
     "text": [
      "plug-in  :  0.58889\n",
      "EMV  :  0.99254\n",
      "EMV EM  :  0.99144\n",
      "procruste  :  0.99315\n",
      "kernel procruste  :  1.00029\n"
     ]
    }
   ],
   "source": [
    "list_lab_est=[\"plug-in\",\"EMV\",\"EMV EM\",\"procruste\",\"kernel procruste\"]\n",
    "list_est=np.mean(mat_err,axis=0)\n",
    "for i,lab in enumerate(list_lab_est):\n",
    "    print(lab,\" : \",round(list_est[i],5))"
   ]
  },
  {
   "cell_type": "markdown",
   "metadata": {},
   "source": [
    "Erreurs bien plus petites dans le cas où on ne fixe pas $PA^*$"
   ]
  },
  {
   "cell_type": "markdown",
   "metadata": {},
   "source": [
    "# Robustesse des méthodes d'estimation"
   ]
  },
  {
   "cell_type": "markdown",
   "metadata": {},
   "source": [
    "Ici on cherche à connaître la robustesse de nos méthodes, on se propose une logique du type Jacknife. Pour chaque ligne de la matrice PA_star. on calcule les estimateurs sans la ligne concernée. On regarde ensuite la distribution des estimateurs obtenus sur chacune des matrices PA_star ainsi obtenues."
   ]
  },
  {
   "cell_type": "code",
   "execution_count": 226,
   "metadata": {},
   "outputs": [
    {
     "name": "stderr",
     "output_type": "stream",
     "text": [
      "100% (200 of 200) |######################| Elapsed Time: 0:01:04 Time:  0:01:04\n"
     ]
    }
   ],
   "source": [
    "niter,d1,d2,n1,n2,n3,mu,sigma = 300,10,10,200,200,50,6,0.009\n",
    "d=d1+d2\n",
    "n=n1+n2+n3\n",
    "A_star, PA_star, mu, Sigma = generate_data(d1,d2,n1,n2,n3,mu,sigma)\n",
    "\n",
    "mat_err=np.zeros((n1,5))\n",
    "\n",
    "for i in progressbar(range(n1)):\n",
    "    \n",
    "    PA_star_less_i = copy.deepcopy(np.concatenate((PA_star[:i],PA_star[(i+1):])))\n",
    "    A_star_less_i = copy.deepcopy(np.concatenate((A_star[:i],A_star[(i+1):])))\n",
    "    \n",
    "    mu1_hat,mu2_hat,Sigma11_hat,Sigma22_hat,Sigma12_hat=empirical_estimates(n1,n2,n3,d1,d2,PA_star_less_i)\n",
    "\n",
    "\n",
    "    A_star_hat_plug_in=build_A_star_hat(mu1_hat,mu2_hat,Sigma11_hat,Sigma22_hat,Sigma12_hat,n1,n2,n3,d1,d2,PA_star_less_i)\n",
    "    A_star_hat_EMV=build_A_star_hat_EMV(PA_star_less_i)\n",
    "    A_star_hat_EM=build_A_star_hat_EM(PA_star_less_i)\n",
    "    A_star_hat_procruste=build_A_star_hat_procruste(PA_star_less_i)\n",
    "    A_star_hat_procruste_kernel=build_A_star_hat_procruste(PA_star_less_i,kernel=True)\n",
    "    \n",
    "    list_A_star_hat=np.array([A_star_hat_plug_in,A_star_hat_EMV,A_star_hat_EM,A_star_hat_procruste,A_star_hat_procruste_kernel])\n",
    "    for u,est in enumerate(list_A_star_hat):\n",
    "        mat_err[i,u]=(np.mean((A_star_less_i[:n1]-est[:n1])**2))\n",
    "    \n",
    "\n",
    "\n",
    "   "
   ]
  },
  {
   "cell_type": "code",
   "execution_count": 235,
   "metadata": {},
   "outputs": [
    {
     "data": {
      "text/plain": [
       "array([0.64537757, 1.1194244 , 1.09625211, 0.93355188, 0.93502805,\n",
       "       0.64545465, 1.11972357, 1.0964641 , 0.93371604, 0.93474571])"
      ]
     },
     "execution_count": 235,
     "metadata": {},
     "output_type": "execute_result"
    }
   ],
   "source": [
    "np.concatenate((np.mean(mat_err,axis=0),\n",
    "np.median(mat_err,axis=0)))"
   ]
  },
  {
   "cell_type": "code",
   "execution_count": 236,
   "metadata": {},
   "outputs": [
    {
     "data": {
      "image/png": "[encoded data removed]",
      "text/plain": [
       "<Figure size 432x288 with 1 Axes>"
      ]
     },
     "metadata": {
      "needs_background": "light"
     },
     "output_type": "display_data"
    }
   ],
   "source": [
    "plt.boxplot(mat_err[:,0])\n",
    "plt.xticks([1], ['plug-in'])\n",
    "plt.show()"
   ]
  },
  {
   "cell_type": "code",
   "execution_count": 232,
   "metadata": {},
   "outputs": [
    {
     "data": {
      "image/png": "[encoded data removed]",
      "text/plain": [
       "<Figure size 432x288 with 1 Axes>"
      ]
     },
     "metadata": {
      "needs_background": "light"
     },
     "output_type": "display_data"
    }
   ],
   "source": [
    "plt.boxplot(mat_err[:,1:3])\n",
    "plt.xticks([1, 2], ['EMV','EM'])\n",
    "plt.show()"
   ]
  },
  {
   "cell_type": "code",
   "execution_count": 230,
   "metadata": {},
   "outputs": [
    {
     "data": {
      "image/png": "[encoded data removed]",
      "text/plain": [
       "<Figure size 432x288 with 1 Axes>"
      ]
     },
     "metadata": {
      "needs_background": "light"
     },
     "output_type": "display_data"
    }
   ],
   "source": [
    "plt.boxplot(mat_err[:,3:])\n",
    "plt.xticks([1,2], ['proc','proc_ker'])\n",
    "plt.show()"
   ]
  },
  {
   "cell_type": "markdown",
   "metadata": {},
   "source": [
    "# Calage sur marge"
   ]
  },
  {
   "cell_type": "markdown",
   "metadata": {},
   "source": [
    "On fait des calages sur marge selon des critères Socio-démographiques et sur le nombre de visites sur les 100 brands du top100 pour chacune des bases de données. On obtient ainsi de nouveaux poids pour chaque panéliste de chacune des bases.\n",
    "\n",
    "L'idée ici est donc de reproduire avec cvxpy la méthode de calge proposée par l'INSEE\n"
   ]
  },
  {
   "cell_type": "code",
   "execution_count": 48,
   "metadata": {},
   "outputs": [
    {
     "data": {
      "text/plain": [
       "(1500, 6)"
      ]
     },
     "execution_count": 48,
     "metadata": {},
     "output_type": "execute_result"
    }
   ],
   "source": [
    "d1,d2,n1,n2,n3 =  3,3,500,500,500\n",
    "d=d1+d2\n",
    "n=n1+n2+n3\n",
    "A_star=generate_A_star_poisson(d,n,10)\n",
    "\n",
    "np.random.seed(1234)\n",
    "marges= np.sum(PA_star,axis=0)+600 #pour ne pas partir trop loin de ce qu'on a \n",
    "#print(marges, np.sum(PA_star,axis=0))\n",
    "weights=np.repeat(1,len(PA_star)) # poids initiaux à 1 pour le moment\n",
    "PA_star.shape"
   ]
  },
  {
   "cell_type": "code",
   "execution_count": 49,
   "metadata": {},
   "outputs": [
    {
     "name": "stdout",
     "output_type": "stream",
     "text": [
      "start\n",
      "0\n",
      "objective\n",
      "problem\n",
      "solving\n",
      "-----------------------------------------------------------------\n",
      "           OSQP v0.6.0  -  Operator Splitting QP Solver\n",
      "              (c) Bartolomeo Stellato,  Goran Banjac\n",
      "        University of Oxford  -  Stanford University 2019\n",
      "-----------------------------------------------------------------\n",
      "problem:  variables n = 12, constraints m = 6\n",
      "          nnz(P) + nnz(A) = 48\n",
      "settings: linear system solver = qdldl,\n",
      "          eps_abs = 1.0e-05, eps_rel = 1.0e-05,\n",
      "          eps_prim_inf = 1.0e-04, eps_dual_inf = 1.0e-04,\n",
      "          rho = 1.00e-01 (adaptive),\n",
      "          sigma = 1.00e-06, alpha = 1.60, max_iter = 10000\n",
      "          check_termination: on (interval 25),\n",
      "          scaling: on, scaled_termination: off\n",
      "          warm start: on, polish: on, time_limit: off\n",
      "\n",
      "iter   objective    pri res    dua res    rho        time\n",
      "   1   0.0000e+00   6.00e+02   3.07e+05   1.00e-01   5.92e-04s\n",
      "  50   2.7147e-26   1.08e-06   4.14e-06   1.00e-01   6.55e-04s\n",
      "plsh   1.1392e-40   1.32e-12   5.55e-13   --------   7.10e-04s\n",
      "\n",
      "status:               solved\n",
      "solution polish:      successful\n",
      "number of iterations: 50\n",
      "optimal objective:    0.0000\n",
      "run time:             7.10e-04s\n",
      "optimal rho estimate: 4.20e-06\n",
      "\n",
      "[ 0.03179146 -0.00560931 -0.01917189  0.00932212  0.00076265 -0.00753943]\n"
     ]
    }
   ],
   "source": [
    "print(\"start\")\n",
    "lambd= cp.Variable(d1+d2)\n",
    "\n",
    "function=0\n",
    "for j in range(d1+d2):\n",
    "    if j%20==0:\n",
    "        print(j)\n",
    "    sum_indiv=0\n",
    "    for i,xi in enumerate(PA_star):\n",
    "        sum_indiv+=weights[i]*(1+cp.sum(lambd*xi))*xi[j] #F(u)=1+u linéaire\n",
    "    function+=cp.square(sum_indiv-marges[j])\n",
    "    \n",
    "# Construct the problem.\n",
    "print(\"objective\")\n",
    "objective = cp.Minimize(function)\n",
    "#constraints = [0 <= lambd, lambd <= 1]\n",
    "constraints=[]\n",
    "print(\"problem\")\n",
    "prob = cp.Problem(objective, constraints)\n",
    "\n",
    "# The optimal objective value is returned by `prob.solve()`.\n",
    "print(\"solving\")\n",
    "result = prob.solve(verbose=1)\n",
    "# The optimal value for lambd is stored in `lambd.value`.\n",
    "print(lambd.value)\n",
    "\n"
   ]
  },
  {
   "cell_type": "code",
   "execution_count": 52,
   "metadata": {},
   "outputs": [
    {
     "name": "stdout",
     "output_type": "stream",
     "text": [
      "[ 7.27595761e-12  2.36468622e-11 -5.45696821e-12  1.81898940e-12\n",
      "  1.63709046e-11  1.81898940e-11]\n"
     ]
    },
    {
     "data": {
      "image/png": "[encoded data removed]",
      "text/plain": [
       "<Figure size 432x288 with 1 Axes>"
      ]
     },
     "metadata": {
      "needs_background": "light"
     },
     "output_type": "display_data"
    }
   ],
   "source": [
    "#nouveaux poids\n",
    "new_weights=np.zeros(len(PA_star))\n",
    "for i,ligne in enumerate(PA_star):\n",
    "    new_weights[i]=weights[i]*(1+np.dot(lambd.value,ligne))\n",
    "\n",
    "plt.hist(weights)\n",
    "plt.hist(new_weights)\n",
    "marges_reconstruites=np.sum((PA_star.T*new_weights).T,axis=0)\n",
    "print(marges-marges_reconstruites)"
   ]
  },
  {
   "cell_type": "markdown",
   "metadata": {},
   "source": [
    "Les poids initiaux étaient de 1, on remarque que les poids ont été modifiés autour de leur valeur initiale, cette déformation permet le calage"
   ]
  }
 ],
 "metadata": {
  "colab": {
   "collapsed_sections": [],
   "name": "Génération de matrices.ipynb",
   "provenance": [],
   "toc_visible": true
  },
  "kernelspec": {
   "display_name": "Python 3",
   "language": "python",
   "name": "python3"
  },
  "language_info": {
   "codemirror_mode": {
    "name": "ipython",
    "version": 3
   },
   "file_extension": ".py",
   "mimetype": "text/x-python",
   "name": "python",
   "nbconvert_exporter": "python",
   "pygments_lexer": "ipython3",
   "version": "3.7.4"
  },
  "varInspector": {
   "cols": {
    "lenName": 16,
    "lenType": 16,
    "lenVar": 40
   },
   "kernels_config": {
    "python": {
     "delete_cmd_postfix": "",
     "delete_cmd_prefix": "del ",
     "library": "var_list.py",
     "varRefreshCmd": "print(var_dic_list())"
    },
    "r": {
     "delete_cmd_postfix": ") ",
     "delete_cmd_prefix": "rm(",
     "library": "var_list.r",
     "varRefreshCmd": "cat(var_dic_list()) "
    }
   },
   "position": {
    "height": "144px",
    "left": "1047px",
    "right": "20px",
    "top": "120px",
    "width": "350px"
   },
   "types_to_exclude": [
    "module",
    "function",
    "builtin_function_or_method",
    "instance",
    "_Feature"
   ],
   "window_display": false
  }
 },
 "nbformat": 4,
 "nbformat_minor": 1
}
